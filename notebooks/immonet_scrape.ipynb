{
 "cells": [
  {
   "cell_type": "markdown",
   "id": "586f4239-68a0-40e3-8553-96398b15632f",
   "metadata": {},
   "source": [
    "# Imports"
   ]
  },
  {
   "cell_type": "code",
   "execution_count": 1,
   "id": "91014cd5-9736-4a0f-8024-1fe00e98b96f",
   "metadata": {},
   "outputs": [],
   "source": [
    "import os\n",
    "import re\n",
    "import math\n",
    "import requests\n",
    "import numpy as np\n",
    "import pandas as pd\n",
    "from time import sleep\n",
    "from random import randint\n",
    "from bs4 import BeautifulSoup\n",
    "from datetime import datetime"
   ]
  },
  {
   "cell_type": "markdown",
   "id": "f098da55-c297-4fc0-8209-bab86ecb0e67",
   "metadata": {
    "heading_collapsed": "true",
    "tags": []
   },
   "source": [
    "## Get infos for one city - Düsseldorf"
   ]
  },
  {
   "cell_type": "code",
   "execution_count": 7,
   "id": "a4bcff2c-f5b0-4c45-a408-26a3bae11797",
   "metadata": {},
   "outputs": [],
   "source": [
    "# only wohnung\n",
    "\n",
    "url = 'https://www.immonet.de/immobiliensuche/sel.do?parentcat=1&objecttype=1&pageoffset=378&listsize=27&suchart=1&sortby=0&city=100207&marketingtype=2&page=1'\n",
    "headers = {'User-Agent': 'Mozilla/5.0 (Macintosh; Intel Mac OS X 10_11_5) AppleWebKit/537.36 (KHTML, like Gecko) Chrome/50.0.2661.102 Safari/537.36'}\n",
    "page = requests.get(url, headers=headers)\n",
    "soup = BeautifulSoup(page.text, \"html.parser\")\n",
    "\n",
    "# Find number of rent offers.\n",
    "a = soup.findAll('h1', class_='box-50')[0].get_text()\n",
    "total_offers = int(re.search('\\d+', a).group())"
   ]
  },
  {
   "cell_type": "markdown",
   "id": "86b0eb35-3b29-4f5c-9ec0-0bcfefe933ff",
   "metadata": {
    "heading_collapsed": "true",
    "tags": []
   },
   "source": [
    "## Get all offers ids for Düsseldorf - only Wohnung (apartments)"
   ]
  },
  {
   "cell_type": "code",
   "execution_count": 493,
   "id": "6c98e72c-4d52-499e-bd37-f11f398da3ed",
   "metadata": {
    "tags": []
   },
   "outputs": [],
   "source": [
    "offers_list_1page = soup.findAll('div', class_=\"col-xs-12 place-over-understitial sel-bg-gray-lighter\")\n",
    "\n",
    "# Get the number of pages to scrape - rounded to down\n",
    "number_of_pages = math.floor(total_offers / len(offers_list_1page))\n",
    "\n",
    "# City code\n",
    "city_code = \"100207\" # Düsseldorf\n",
    "\n",
    "# List of all ids\n",
    "ids_list = []\n",
    "\n",
    "\n",
    "for page in range(number_of_pages):\n",
    "    \n",
    "    url = f\"https://www.immonet.de/immobiliensuche/sel.do?parentcat=1&objecttype=1&pageoffset=1&listsize=26&suchart=1&sortby=0&city={city_code}&marketingtype=2&page={page}\"\n",
    "    headers = {'User-Agent': 'Mozilla/5.0 (Macintosh; Intel Mac OS X 10_11_5) AppleWebKit/537.36 (KHTML, like Gecko) Chrome/50.0.2661.102 Safari/537.36'}\n",
    "    page = requests.get(url, headers=headers)\n",
    "    soup = BeautifulSoup(page.text, \"html.parser\")\n",
    "    \n",
    "    offers_list_1page = soup.findAll('div', class_=\"col-xs-12 place-over-understitial sel-bg-gray-lighter\")\n",
    "\n",
    "    for i in range(len(offers_list_1page)):\n",
    "        try:\n",
    "            ids_list.append(offers_list_1page[i].find('a')['data-object-id'])\n",
    "        except:\n",
    "            pass\n",
    "        #sleep(randint(1, 4))"
   ]
  },
  {
   "cell_type": "code",
   "execution_count": 494,
   "id": "410ce778-acd9-4a73-8286-08aae3698b5a",
   "metadata": {},
   "outputs": [
    {
     "data": {
      "text/plain": [
       "366"
      ]
     },
     "execution_count": 494,
     "metadata": {},
     "output_type": "execute_result"
    }
   ],
   "source": [
    "len(ids_list)"
   ]
  },
  {
   "cell_type": "code",
   "execution_count": 495,
   "id": "3a43f947-a651-4548-b935-af2064e7e558",
   "metadata": {},
   "outputs": [
    {
     "data": {
      "text/plain": [
       "341"
      ]
     },
     "execution_count": 495,
     "metadata": {},
     "output_type": "execute_result"
    }
   ],
   "source": [
    "len(set(ids_list))"
   ]
  },
  {
   "cell_type": "markdown",
   "id": "3d8bddf2-b67e-408d-a8ee-ac1a4d19973c",
   "metadata": {
    "heading_collapsed": "true",
    "tags": []
   },
   "source": [
    "## get infos for each offer_id"
   ]
  },
  {
   "cell_type": "code",
   "execution_count": 2,
   "id": "9b407782-2e53-40b2-a98e-60888d48b138",
   "metadata": {},
   "outputs": [
    {
     "ename": "NameError",
     "evalue": "name 'ids_list' is not defined",
     "output_type": "error",
     "traceback": [
      "\u001b[0;31m---------------------------------------------------------------------------\u001b[0m",
      "\u001b[0;31mNameError\u001b[0m                                 Traceback (most recent call last)",
      "\u001b[0;32m<ipython-input-2-da945ac571c1>\u001b[0m in \u001b[0;36m<module>\u001b[0;34m\u001b[0m\n\u001b[1;32m      9\u001b[0m \u001b[0mnow\u001b[0m \u001b[0;34m=\u001b[0m \u001b[0mdatetime\u001b[0m\u001b[0;34m.\u001b[0m\u001b[0mnow\u001b[0m\u001b[0;34m(\u001b[0m\u001b[0;34m)\u001b[0m\u001b[0;34m.\u001b[0m\u001b[0mstrftime\u001b[0m\u001b[0;34m(\u001b[0m\u001b[0;34m'%Y-%m-%d-%H:%M:%S'\u001b[0m\u001b[0;34m)\u001b[0m\u001b[0;34m\u001b[0m\u001b[0;34m\u001b[0m\u001b[0m\n\u001b[1;32m     10\u001b[0m \u001b[0;34m\u001b[0m\u001b[0m\n\u001b[0;32m---> 11\u001b[0;31m \u001b[0;32mfor\u001b[0m \u001b[0mId\u001b[0m \u001b[0;32min\u001b[0m \u001b[0mset\u001b[0m\u001b[0;34m(\u001b[0m\u001b[0mids_list\u001b[0m\u001b[0;34m)\u001b[0m\u001b[0;34m:\u001b[0m\u001b[0;34m\u001b[0m\u001b[0;34m\u001b[0m\u001b[0m\n\u001b[0m\u001b[1;32m     12\u001b[0m \u001b[0;34m\u001b[0m\u001b[0m\n\u001b[1;32m     13\u001b[0m     \u001b[0murl\u001b[0m \u001b[0;34m=\u001b[0m \u001b[0;34mf\"https://www.immonet.de/angebot/{Id}?drop=sel&related=false&product=standard\"\u001b[0m\u001b[0;34m\u001b[0m\u001b[0;34m\u001b[0m\u001b[0m\n",
      "\u001b[0;31mNameError\u001b[0m: name 'ids_list' is not defined"
     ]
    }
   ],
   "source": [
    "'''\n",
    "Here we will get the infos from the info panels for each offer.\n",
    "'''\n",
    "# City code\n",
    "city_code = \"100207\"\n",
    "city = 'Dusseldorf'\n",
    "\n",
    "infos_list = []\n",
    "now = datetime.now().strftime('%Y-%m-%d-%H:%M:%S')\n",
    "\n",
    "for Id in set(ids_list):\n",
    "\n",
    "    url = f\"https://www.immonet.de/angebot/{Id}?drop=sel&related=false&product=standard\"\n",
    "    headers = {'User-Agent': 'Mozilla/5.0 (Macintosh; Intel Mac OS X 10_11_5) AppleWebKit/537.36 (KHTML, like Gecko) Chrome/50.0.2661.102 Safari/537.36'}\n",
    "    page = requests.get(url, headers=headers)\n",
    "    soup = BeautifulSoup(page.text, \"html.parser\")\n",
    "    \n",
    "    panels_infos = soup.findAll('div', class_='row box-50')\n",
    "    # get all infos about each offer (all infos are mixed)\n",
    "    \n",
    "    offer_infos = []\n",
    "    for panel in panels_infos:\n",
    "        offer_infos.append(panel.text.replace('\\n', '').replace('\\t', '-'))\n",
    "    \n",
    "    infos_list.append({'offer_id': Id, 'datetime': now, 'city': city, 'city_code': city_code, 'infos': offer_infos})\n",
    "    \n",
    "    if len(offer_infos) == 0:\n",
    "        print(Id, ' - ERROR')    "
   ]
  },
  {
   "cell_type": "code",
   "execution_count": 498,
   "id": "7818fcb3-089d-4a30-a560-c115a6fbc24d",
   "metadata": {},
   "outputs": [],
   "source": [
    "df_raw = pd.DataFrame(infos_list)"
   ]
  },
  {
   "cell_type": "code",
   "execution_count": 499,
   "id": "d728d5df-2e42-4970-b0a7-c56b5e11e164",
   "metadata": {},
   "outputs": [
    {
     "data": {
      "text/html": [
       "<div>\n",
       "<style scoped>\n",
       "    .dataframe tbody tr th:only-of-type {\n",
       "        vertical-align: middle;\n",
       "    }\n",
       "\n",
       "    .dataframe tbody tr th {\n",
       "        vertical-align: top;\n",
       "    }\n",
       "\n",
       "    .dataframe thead th {\n",
       "        text-align: right;\n",
       "    }\n",
       "</style>\n",
       "<table border=\"1\" class=\"dataframe\">\n",
       "  <thead>\n",
       "    <tr style=\"text-align: right;\">\n",
       "      <th></th>\n",
       "      <th>offer_id</th>\n",
       "      <th>datetime</th>\n",
       "      <th>infos</th>\n",
       "    </tr>\n",
       "  </thead>\n",
       "  <tbody>\n",
       "    <tr>\n",
       "      <th>0</th>\n",
       "      <td>45383090</td>\n",
       "      <td>20211003-191642</td>\n",
       "      <td>[-----WOHNEN UNKOMPLIZIERT - EIN PREIS ALLES D...</td>\n",
       "    </tr>\n",
       "    <tr>\n",
       "      <th>1</th>\n",
       "      <td>45155366</td>\n",
       "      <td>20211003-191642</td>\n",
       "      <td>[-----Helle 2 Zimmer Wohnung mit Dachterrasse-...</td>\n",
       "    </tr>\n",
       "    <tr>\n",
       "      <th>2</th>\n",
       "      <td>45013603</td>\n",
       "      <td>20211003-191642</td>\n",
       "      <td>[-----Voll möbliertes Apartment mit hotelähnli...</td>\n",
       "    </tr>\n",
       "    <tr>\n",
       "      <th>3</th>\n",
       "      <td>45299018</td>\n",
       "      <td>20211003-191642</td>\n",
       "      <td>[-----Düsseldorf-Bilk! Ruhige Seitenstraße, 2 ...</td>\n",
       "    </tr>\n",
       "    <tr>\n",
       "      <th>4</th>\n",
       "      <td>45382436</td>\n",
       "      <td>20211003-191642</td>\n",
       "      <td>[-----Helle 3-Zimmerwohnung mit Balkon, Wannen...</td>\n",
       "    </tr>\n",
       "  </tbody>\n",
       "</table>\n",
       "</div>"
      ],
      "text/plain": [
       "   offer_id         datetime  \\\n",
       "0  45383090  20211003-191642   \n",
       "1  45155366  20211003-191642   \n",
       "2  45013603  20211003-191642   \n",
       "3  45299018  20211003-191642   \n",
       "4  45382436  20211003-191642   \n",
       "\n",
       "                                               infos  \n",
       "0  [-----WOHNEN UNKOMPLIZIERT - EIN PREIS ALLES D...  \n",
       "1  [-----Helle 2 Zimmer Wohnung mit Dachterrasse-...  \n",
       "2  [-----Voll möbliertes Apartment mit hotelähnli...  \n",
       "3  [-----Düsseldorf-Bilk! Ruhige Seitenstraße, 2 ...  \n",
       "4  [-----Helle 3-Zimmerwohnung mit Balkon, Wannen...  "
      ]
     },
     "execution_count": 499,
     "metadata": {},
     "output_type": "execute_result"
    }
   ],
   "source": [
    "df_raw.head()"
   ]
  },
  {
   "cell_type": "code",
   "execution_count": 481,
   "id": "ee646a7b-846d-463c-bb88-48c00d5ad010",
   "metadata": {},
   "outputs": [
    {
     "data": {
      "text/plain": [
       "['-----Unterrath: Helles Appartement am Kartäuserpark mit Einbauküche, modernisiertem Tageslichtbad und Balkon----------------Apartment ------mieten-------------------in Düsseldorf-----------------Kartäuserstrasse   . .------------40468\\xa0------Düsseldorf------------Auf Karte anzeigenDieses Angebot teilenDieses Angebot teilen',\n",
       " 'Meine Orte',\n",
       " 'Preise & Kosten----------Miete zzgl. NK----------525.0\\xa0€---------------------Miete inkl. NK----------625.0\\xa0€---------------------Nebenkosten----------100.0\\xa0€-----------Heizkosten in Nebenkosten enthalten:Ja----------Kaution/ Genossenschaftsanteile----------1575.0\\xa0€-----------',\n",
       " 'Größe & Zustand-----------------------Zimmer--------------------1.0------Wohnfläche ca.------40.0\\xa0m²Zustand-------Teil- oder vollsaniert------Baujahr1968Verfügbar ab--------------sofort-------------',\n",
       " 'EnergieEnergieeffizienzklasseKlasse F----------------------------Endenergieverbrauch--------------------------188.0 kWh/(m²*a)--------Energieausweis------------------Energieverbrauchsausweis--------------------------HeizungsartZentralheizungBefeuerungsart-----------------------------Öl-----------------Baujahr (laut Energieausweis)1967',\n",
       " 'Ausstattung-----------Küche: Einbauküche (EBK)---------------------Bad: Bad mit Fenster---------------------Balkon-------------------Garten/-anteil/-mitbenutzung-------------------Etage: 1-------------------Keller---------------Das angebotene Appartement verfügt über einen Wohn-/Schlafraum inkl. einer Kochnische zzgl. Diele, Tageslichtbad und Balkon. Ein separater, abgeschlossener Abstellraum als Nutzfläche ist im Kellergeschoss vorhanden. Der Wohn-/Schlafraum sowie die Diele sind jeweils mit hellem Laminatboden ausgelegt. Im Mietpreis bereits enthalten ist eine neue und vollwertige Einbauküche, welche bereits in die Kochnische eingebaut worden ist. Der Kochbereich ist mit schieferähnlichen Fliesen gefliest. Das Tageslichtbad ist modernisiert und verfügt über eine Badewanne, sowie weiße Fliesen an den Wänden und schieferähnlichen Fliesen auf dem Boden. Der Balkon ist nach Westen ausgerichtet, so dass Sie den Nachmittag und Abend in der Sonne geniessen können.Das Appartement ist bei Übergabe sofort bezugsfähig.Die genaue Aufteilung des Appartements entnehmen Sie bitte dem beigefügten pdf-Plan.',\n",
       " 'ObjektbeschreibungAngeboten wird ein optimal geschnittenes Appartement, welches im Obergeschoss eines 6-Parteien Hauses gelegen ist. Zu dem Appartement gehört ein separater, abgeschlossener Abstellraum, welcher sich im Kellergeschoss des Hauses befindet. Hinter dem Haus liegt ein Garten, welcher von allen Mietern genutzt werden darf. Außerdem befindet sich in dem Objekt noch ein gemeinschaftlicher Wasch- und Trockenraum. Hier steht sowohl eine Waschmaschine, als auch ein Wäschetrockner für die Wäschepflege zur Verfügung. ',\n",
       " 'LageDie Wohnung liegt im beliebten Stadtteil Unterrath im Norden von Düsseldorf. Die Kartäuserstrasse ist eine ruhige Seitenstrasse und endet direkt im sehr beliebten Kartäuser-Park, welcher entlang des Kittelbaches gelegen ist. Naturliebhaber und Sportive werden sich hier sicher wohl fühlen. Kindergärten und Schulen sind in direkter Nähe, die Innenstadt ist innerhalb von 8-10 Minuten mit dem PKW zu erreichen. Der Autobahnzubringer (A44/A52/A57) liegt mit dem PKW ca. 3 Minuten entfernt, ähnliches gilt für den Flughafen (5 Minuten). Trotz der Flughafennähe wird die Kartäuserstrasse vom Fluglärm verschont.',\n",
       " 'SonstigesAlle Angaben wurde sorgfältig und vollständig gemacht, dennoch können Fehler nicht ausgeschlossen werden. Die Angaben in diesem Exposé erfolgen daher ohne jede Gewähr. Maßgeblich sind die im Mietvertrag geschlossenen Vereinbarungen.Die Wohnung wird privat vermietet und wir bitten, von Makleranfragen Abstand zu nehmen. Auch ist nicht beabsichtigt, die Immobilie zu verkaufen. Derartige Anfragen bleiben unbeantwortet.Besichtigungen:Aufgrund der Corona-Pandemie können derzeit keine offenen Besichtigungen stattfinden, daher werden nur Einzeltermine angeboten.Bitte geben Sie für die erste Kontaktaufnahme eine Telefonnummer an. Anfragen ohne Telefonnummer können leider nicht bearbeitet werden.Stichworte:Anzahl Balkone: 1',\n",
       " 'Immonet-Nr.: 45540797Anbieter-Objekt-ID: AAUWL3B_2R8X94H-1938659',\n",
       " '  Tipps der Immonet Redaktion        Tipps zur Nebenkostenabrechnung Die Nebenkostenabrechnung sorgt häufig für Unklarheiten zwischen Mieter und Vermieter. Was muss aufgeführt werden und was nicht?           Möbel einlagern – Stauraum auf Zeit Stauraum für Möbel, Akten und Umzugskartons: So lagern Sie Ihre Möbel richtig ein. Tipps für Selfstorage-Lösungen in Ihrer Nähe finden Sie hier.           Wohnungsbesichtigung: Das sollten Sie beachten Nach langer Suche haben Sie ihre Traumwohnung. Jetzt steht die Besichtigung an. Worauf man dabei achten sollte, hat Immonet für Sie zusammengestellt.            Überzeugende Bewerbungsmappe erstellen Immer öfter verlangen Vermieter von Interessenten eine Bewerbung. Erstellen Sie mit unserer Hilfe eine überzeugende Bewerbungsmappe –\\xa0kostenlos.      ',\n",
       " 'Anbieter---------Für eine Kontaktaufnahme nutzen Sie bitte das Kontaktformular!--------Anbieter kontaktieren']"
      ]
     },
     "execution_count": 481,
     "metadata": {},
     "output_type": "execute_result"
    }
   ],
   "source": [
    "df_raw['infos'][0]"
   ]
  },
  {
   "cell_type": "markdown",
   "id": "13559f86-bb48-41ee-b427-5c70b4c1e85e",
   "metadata": {
    "heading_collapsed": "true",
    "tags": []
   },
   "source": [
    "## Get offers for houses too"
   ]
  },
  {
   "cell_type": "code",
   "execution_count": 22,
   "id": "9bc9b902-1e41-4508-9429-2a2284fdef2e",
   "metadata": {},
   "outputs": [],
   "source": [
    "# get all offers quantity - haus und wohnung\n",
    "\n",
    "total_offers = 0\n",
    "\n",
    "for i in range(1,3):\n",
    "    url = f'https://www.immonet.de/immobiliensuche/sel.do?parentcat={i}&objecttype=1&pageoffset=378&listsize=27&suchart=1&sortby=0&city=100207&marketingtype=2&page=1'\n",
    "    headers = {'User-Agent': 'Mozilla/5.0 (Macintosh; Intel Mac OS X 10_11_5) AppleWebKit/537.36 (KHTML, like Gecko) Chrome/50.0.2661.102 Safari/537.36'}\n",
    "    page = requests.get(url, headers=headers)\n",
    "    soup = BeautifulSoup(page.text, \"html.parser\")\n",
    "    \n",
    "    # Find number of rent offers.\n",
    "    a = soup.findAll('h1', class_='box-50')[0].get_text()\n",
    "    total_offers += int(re.search('\\d+', a).group())"
   ]
  },
  {
   "cell_type": "code",
   "execution_count": 23,
   "id": "7b090d5f-8526-4db0-9923-304447b386ca",
   "metadata": {},
   "outputs": [],
   "source": [
    "# get all offers ids for haus und wohnung in Dusseldorf\n",
    "\n",
    "offers_list_1page = soup.findAll('div', class_=\"col-xs-12 place-over-understitial sel-bg-gray-lighter\")\n",
    "\n",
    "# Get the number of pages to scrape - rounded to down\n",
    "number_of_pages = math.floor(total_offers / len(offers_list_1page))\n",
    "\n",
    "# City code\n",
    "city_code = \"100207\" # Düsseldorf\n",
    "city = 'Dusseldorf'\n",
    "\n",
    "# List of all ids\n",
    "ids_list = []\n",
    "\n",
    "# wohnung/haus code\n",
    "l_opt = [1, 2]\n",
    "\n",
    "for opt in l_opt:\n",
    "    for page in range(number_of_pages):\n",
    "        url = f\"https://www.immonet.de/immobiliensuche/sel.do?parentcat={opt}&objecttype=1&pageoffset=1&listsize=26&suchart=1&sortby=0&city={city_code}&marketingtype=2&page={page}\"\n",
    "        headers = {'User-Agent': 'Mozilla/5.0 (Macintosh; Intel Mac OS X 10_11_5) AppleWebKit/537.36 (KHTML, like Gecko) Chrome/50.0.2661.102 Safari/537.36'}\n",
    "        page = requests.get(url, headers=headers)\n",
    "        soup = BeautifulSoup(page.text, \"html.parser\")\n",
    "    \n",
    "        offers_list_1page = soup.findAll('div', class_=\"col-xs-12 place-over-understitial sel-bg-gray-lighter\")\n",
    "\n",
    "        for i in range(len(offers_list_1page)):\n",
    "            try:\n",
    "                if opt == 1:\n",
    "                    ids_list.append({ 'offer_id': offers_list_1page[i].find('a')['data-object-id']'city': city, 'city_code': city_code, 'type': 'wohnung'})\n",
    "                if opt == 2:\n",
    "                    ids_list.append({ 'offer_id': offers_list_1page[i].find('a')['data-object-id'], 'city': city, 'city_code': city_code, 'type': 'haus'})\n",
    "            except:\n",
    "                pass\n",
    "            \n",
    "# Create a dataframe with the infos\n",
    "df_ids = pd.DataFrame(ids_list)"
   ]
  },
  {
   "cell_type": "code",
   "execution_count": 29,
   "id": "bd39d144-a6a0-4cc3-8c90-d97afeab329f",
   "metadata": {},
   "outputs": [],
   "source": [
    "'''\n",
    "Here we will get the infos from the info panels for each offer.\n",
    "'''\n",
    "\n",
    "infos_list = []\n",
    "now = datetime.now().strftime('%Y-%m-%d-%H:%M:%S')\n",
    "\n",
    "for Id in set(df_ids['offer_id']):\n",
    "\n",
    "    url = f\"https://www.immonet.de/angebot/{Id}?drop=sel&related=false&product=standard\"\n",
    "    headers = {'User-Agent': 'Mozilla/5.0 (Macintosh; Intel Mac OS X 10_11_5) AppleWebKit/537.36 (KHTML, like Gecko) Chrome/50.0.2661.102 Safari/537.36'}\n",
    "    page = requests.get(url, headers=headers)\n",
    "    soup = BeautifulSoup(page.text, \"html.parser\")\n",
    "    \n",
    "    panels_infos = soup.findAll('div', class_='row box-50')\n",
    "    # get all infos about each offer (all infos are mixed)\n",
    "    \n",
    "    offer_infos = []\n",
    "    for panel in panels_infos:\n",
    "        offer_infos.append(panel.text.replace('\\n', '').replace('\\t', '-'))\n",
    "    \n",
    "    infos_list.append({'offer_id': Id, 'datetime': now, 'city': city, 'city_code': city_code, 'infos': offer_infos})\n",
    "    \n",
    "    if len(offer_infos) == 0:\n",
    "        print(Id, ' - ERROR')   \n",
    "        \n",
    "# create a dataframe\n",
    "df_raw_infos = pd.DataFrame(infos_list)"
   ]
  },
  {
   "cell_type": "code",
   "execution_count": 30,
   "id": "3ebaca4e-e7e2-4323-9d62-8995bccb8e2b",
   "metadata": {},
   "outputs": [],
   "source": [
    "df_raw_infos = pd.DataFrame(infos_list)"
   ]
  },
  {
   "cell_type": "code",
   "execution_count": 32,
   "id": "b75bda03-b73d-493a-a366-8d2a7100bc96",
   "metadata": {},
   "outputs": [
    {
     "data": {
      "text/plain": [
       "(438, 5)"
      ]
     },
     "execution_count": 32,
     "metadata": {},
     "output_type": "execute_result"
    }
   ],
   "source": [
    "df_raw_infos.shape"
   ]
  },
  {
   "cell_type": "markdown",
   "id": "c3220143-831d-4f9f-bae8-ec7ba8a0acbc",
   "metadata": {},
   "source": [
    "## Get offers for more cityes"
   ]
  },
  {
   "cell_type": "code",
   "execution_count": 3,
   "id": "9c75af97-d2a1-46d4-bc7c-300500a92110",
   "metadata": {},
   "outputs": [],
   "source": [
    "# get main German cities codes\n",
    "\n",
    "cities_dict = {\n",
    "    'Dusseldorf': 100207,\n",
    "    'Berlin': 87372,\n",
    "    'Essen': 102157,\n",
    "    'Munchen': 121673,\n",
    "    'Koln': 113144,\n",
    "    'Stuttgart': 143262,\n",
    "    'Dresden': 100051,\n",
    "    'Hannover': 109489,\n",
    "    'Dortmund': 99990,\n",
    "    'Frankfurt am Main': 105043,\n",
    "    'Hamburg': 109447\n",
    "}\n",
    "\n",
    "# get all offers quantity - haus und wohnung\n",
    "\n",
    "cities_offers = []\n",
    "\n",
    "for city, code in cities_dict.items():\n",
    "    \n",
    "    total_offers = 0\n",
    "    \n",
    "    for i in range(1,3):\n",
    "        url = f'https://www.immonet.de/immobiliensuche/sel.do?parentcat={i}&objecttype=1&pageoffset=378&listsize=27&suchart=1&sortby=0&city={code}&marketingtype=2&page=1'\n",
    "        headers = {'User-Agent': 'Mozilla/5.0 (Macintosh; Intel Mac OS X 10_11_5) AppleWebKit/537.36 (KHTML, like Gecko) Chrome/50.0.2661.102 Safari/537.36'}\n",
    "        page = requests.get(url, headers=headers)\n",
    "        soup = BeautifulSoup(page.text, \"html.parser\")\n",
    "        \n",
    "        # Find number of rent offers.\n",
    "        a = soup.findAll('h1', class_='box-50')[0].get_text()\n",
    "        total_offers += int(re.search('\\d+', a).group())\n",
    "    \n",
    "    cities_offers.append({'city': city, 'city_code': code, 'offers': total_offers})\n",
    "    \n",
    "offers_by_page = len(soup.findAll('div', class_=\"col-xs-12 place-over-understitial sel-bg-gray-lighter\"))    \n",
    "df_offers = pd.DataFrame(cities_offers)"
   ]
  },
  {
   "cell_type": "code",
   "execution_count": 12,
   "id": "fc929b5f-829e-43a5-bbf2-9c1c8504e5ec",
   "metadata": {},
   "outputs": [],
   "source": [
    "# List of all ids\n",
    "ids_list = []\n",
    "offers_list_1page = soup.findAll('div', class_=\"col-xs-12 place-over-understitial sel-bg-gray-lighter\")\n",
    "\n",
    "for c in range(len(df_offers)):\n",
    "    city = df_offers.loc[c]['city']\n",
    "    city_code = df_offers.loc[c]['city_code']\n",
    "    offers = df_offers.loc[c]['offers']\n",
    "    \n",
    "    # get all offers ids for haus und wohnung in each city\n",
    "    \n",
    "\n",
    "    # Get the number of pages to scrape - rounded to down\n",
    "    number_of_pages = math.floor(offers / offers_by_page)\n",
    "    \n",
    "    # wohnung/haus code\n",
    "    l_opt = [1, 2]\n",
    "\n",
    "    for opt in l_opt:\n",
    "        for page in range(number_of_pages):\n",
    "            url = f\"https://www.immonet.de/immobiliensuche/sel.do?parentcat={opt}&objecttype=1&pageoffset=1&listsize=26&suchart=1&sortby=0&city={city_code}&marketingtype=2&page={page}\"\n",
    "            headers = {'User-Agent': 'Mozilla/5.0 (Macintosh; Intel Mac OS X 10_11_5) AppleWebKit/537.36 (KHTML, like Gecko) Chrome/50.0.2661.102 Safari/537.36'}\n",
    "            page = requests.get(url, headers=headers)\n",
    "            soup = BeautifulSoup(page.text, \"html.parser\")\n",
    "\n",
    "            offers_list_1page = soup.findAll('div', class_=\"col-xs-12 place-over-understitial sel-bg-gray-lighter\")\n",
    "\n",
    "            for i in range(len(offers_list_1page)):\n",
    "                try:\n",
    "                    if opt == 1:\n",
    "                        ids_list.append({ 'offer_id': offers_list_1page[i].find('a')['data-object-id'], 'city': city, 'city_code': city_code, 'type': 'wohnung'})\n",
    "                    if opt == 2:\n",
    "                        ids_list.append({ 'offer_id': offers_list_1page[i].find('a')['data-object-id'], 'city': city, 'city_code': city_code, 'type': 'haus'})\n",
    "                except:\n",
    "                    pass\n",
    "            sleep(randint(1, 2)) \n",
    "    sleep(randint(1, 5))          \n",
    "            \n",
    "# Create a dataframe with the infos\n",
    "df_ids = pd.DataFrame(ids_list)\n",
    "\n",
    "# save as csv file\n",
    "now2 = datetime.now().strftime('%Y_%m_%d_%H_%M_%S')\n",
    "output_dir = '../data/'\n",
    "filename = f'immonet_de_{now2}.csv'\n",
    "df_ids.to_csv(os.path.join(output_dir, filename), index=False)"
   ]
  },
  {
   "cell_type": "code",
   "execution_count": 13,
   "id": "3dc13241-23ed-4923-afa0-a66cee3ad38f",
   "metadata": {},
   "outputs": [
    {
     "data": {
      "text/plain": [
       "7542"
      ]
     },
     "execution_count": 13,
     "metadata": {},
     "output_type": "execute_result"
    }
   ],
   "source": [
    "len(ids_list)"
   ]
  },
  {
   "cell_type": "code",
   "execution_count": 14,
   "id": "efbc8254-f7d6-4bb1-b8f8-7ed66e20c659",
   "metadata": {},
   "outputs": [
    {
     "data": {
      "text/plain": [
       "(7542, 4)"
      ]
     },
     "execution_count": 14,
     "metadata": {},
     "output_type": "execute_result"
    }
   ],
   "source": [
    "df_ids.shape"
   ]
  },
  {
   "cell_type": "code",
   "execution_count": 15,
   "id": "d9093cae-0028-4077-8a91-e9079ebc1f49",
   "metadata": {},
   "outputs": [],
   "source": [
    "df_ids = pd.DataFrame(ids_list)"
   ]
  },
  {
   "cell_type": "code",
   "execution_count": 16,
   "id": "796ffffb-fd94-4ed5-bb9c-d605dc79d36a",
   "metadata": {},
   "outputs": [
    {
     "data": {
      "text/html": [
       "<div>\n",
       "<style scoped>\n",
       "    .dataframe tbody tr th:only-of-type {\n",
       "        vertical-align: middle;\n",
       "    }\n",
       "\n",
       "    .dataframe tbody tr th {\n",
       "        vertical-align: top;\n",
       "    }\n",
       "\n",
       "    .dataframe thead th {\n",
       "        text-align: right;\n",
       "    }\n",
       "</style>\n",
       "<table border=\"1\" class=\"dataframe\">\n",
       "  <thead>\n",
       "    <tr style=\"text-align: right;\">\n",
       "      <th></th>\n",
       "      <th>offer_id</th>\n",
       "      <th>city</th>\n",
       "      <th>city_code</th>\n",
       "      <th>type</th>\n",
       "    </tr>\n",
       "  </thead>\n",
       "  <tbody>\n",
       "    <tr>\n",
       "      <th>0</th>\n",
       "      <td>45610889</td>\n",
       "      <td>Dusseldorf</td>\n",
       "      <td>100207</td>\n",
       "      <td>wohnung</td>\n",
       "    </tr>\n",
       "    <tr>\n",
       "      <th>1</th>\n",
       "      <td>45578967</td>\n",
       "      <td>Dusseldorf</td>\n",
       "      <td>100207</td>\n",
       "      <td>wohnung</td>\n",
       "    </tr>\n",
       "    <tr>\n",
       "      <th>2</th>\n",
       "      <td>45475784</td>\n",
       "      <td>Dusseldorf</td>\n",
       "      <td>100207</td>\n",
       "      <td>wohnung</td>\n",
       "    </tr>\n",
       "    <tr>\n",
       "      <th>3</th>\n",
       "      <td>45466649</td>\n",
       "      <td>Dusseldorf</td>\n",
       "      <td>100207</td>\n",
       "      <td>wohnung</td>\n",
       "    </tr>\n",
       "    <tr>\n",
       "      <th>4</th>\n",
       "      <td>45558112</td>\n",
       "      <td>Dusseldorf</td>\n",
       "      <td>100207</td>\n",
       "      <td>wohnung</td>\n",
       "    </tr>\n",
       "  </tbody>\n",
       "</table>\n",
       "</div>"
      ],
      "text/plain": [
       "   offer_id        city  city_code     type\n",
       "0  45610889  Dusseldorf     100207  wohnung\n",
       "1  45578967  Dusseldorf     100207  wohnung\n",
       "2  45475784  Dusseldorf     100207  wohnung\n",
       "3  45466649  Dusseldorf     100207  wohnung\n",
       "4  45558112  Dusseldorf     100207  wohnung"
      ]
     },
     "execution_count": 16,
     "metadata": {},
     "output_type": "execute_result"
    }
   ],
   "source": [
    "df_ids.head()"
   ]
  },
  {
   "cell_type": "code",
   "execution_count": 2,
   "id": "80f69634-d279-4714-97d7-18da7f69b4df",
   "metadata": {},
   "outputs": [],
   "source": [
    "df_ids = pd.read_csv('../data/immonet_de_2021_10_09_13_26_04.csv')"
   ]
  },
  {
   "cell_type": "code",
   "execution_count": 3,
   "id": "698363c4-3214-4845-a554-c0ab20589765",
   "metadata": {},
   "outputs": [
    {
     "data": {
      "text/plain": [
       "7542"
      ]
     },
     "execution_count": 3,
     "metadata": {},
     "output_type": "execute_result"
    }
   ],
   "source": [
    "len(df_ids['offer_id'])"
   ]
  },
  {
   "cell_type": "code",
   "execution_count": 4,
   "id": "90d370b8-fec1-4140-9b22-948d40eeb688",
   "metadata": {},
   "outputs": [
    {
     "name": "stdout",
     "output_type": "stream",
     "text": [
      "45613502  - ERROR\n",
      "45580771  - ERROR\n"
     ]
    },
    {
     "ename": "ReadTimeout",
     "evalue": "HTTPSConnectionPool(host='www.immonet.de', port=443): Read timed out. (read timeout=None)",
     "output_type": "error",
     "traceback": [
      "\u001b[0;31m---------------------------------------------------------------------------\u001b[0m",
      "\u001b[0;31mTimeoutError\u001b[0m                              Traceback (most recent call last)",
      "\u001b[0;32m/opt/anaconda3/lib/python3.8/site-packages/urllib3/connectionpool.py\u001b[0m in \u001b[0;36m_make_request\u001b[0;34m(self, conn, method, url, timeout, chunked, **httplib_request_kw)\u001b[0m\n\u001b[1;32m    444\u001b[0m                     \u001b[0;31m# Otherwise it looks like a bug in the code.\u001b[0m\u001b[0;34m\u001b[0m\u001b[0;34m\u001b[0m\u001b[0;34m\u001b[0m\u001b[0m\n\u001b[0;32m--> 445\u001b[0;31m                     \u001b[0msix\u001b[0m\u001b[0;34m.\u001b[0m\u001b[0mraise_from\u001b[0m\u001b[0;34m(\u001b[0m\u001b[0me\u001b[0m\u001b[0;34m,\u001b[0m \u001b[0;32mNone\u001b[0m\u001b[0;34m)\u001b[0m\u001b[0;34m\u001b[0m\u001b[0;34m\u001b[0m\u001b[0m\n\u001b[0m\u001b[1;32m    446\u001b[0m         \u001b[0;32mexcept\u001b[0m \u001b[0;34m(\u001b[0m\u001b[0mSocketTimeout\u001b[0m\u001b[0;34m,\u001b[0m \u001b[0mBaseSSLError\u001b[0m\u001b[0;34m,\u001b[0m \u001b[0mSocketError\u001b[0m\u001b[0;34m)\u001b[0m \u001b[0;32mas\u001b[0m \u001b[0me\u001b[0m\u001b[0;34m:\u001b[0m\u001b[0;34m\u001b[0m\u001b[0;34m\u001b[0m\u001b[0m\n",
      "\u001b[0;32m/opt/anaconda3/lib/python3.8/site-packages/urllib3/packages/six.py\u001b[0m in \u001b[0;36mraise_from\u001b[0;34m(value, from_value)\u001b[0m\n",
      "\u001b[0;32m/opt/anaconda3/lib/python3.8/site-packages/urllib3/connectionpool.py\u001b[0m in \u001b[0;36m_make_request\u001b[0;34m(self, conn, method, url, timeout, chunked, **httplib_request_kw)\u001b[0m\n\u001b[1;32m    439\u001b[0m                 \u001b[0;32mtry\u001b[0m\u001b[0;34m:\u001b[0m\u001b[0;34m\u001b[0m\u001b[0;34m\u001b[0m\u001b[0m\n\u001b[0;32m--> 440\u001b[0;31m                     \u001b[0mhttplib_response\u001b[0m \u001b[0;34m=\u001b[0m \u001b[0mconn\u001b[0m\u001b[0;34m.\u001b[0m\u001b[0mgetresponse\u001b[0m\u001b[0;34m(\u001b[0m\u001b[0;34m)\u001b[0m\u001b[0;34m\u001b[0m\u001b[0;34m\u001b[0m\u001b[0m\n\u001b[0m\u001b[1;32m    441\u001b[0m                 \u001b[0;32mexcept\u001b[0m \u001b[0mBaseException\u001b[0m \u001b[0;32mas\u001b[0m \u001b[0me\u001b[0m\u001b[0;34m:\u001b[0m\u001b[0;34m\u001b[0m\u001b[0;34m\u001b[0m\u001b[0m\n",
      "\u001b[0;32m/opt/anaconda3/lib/python3.8/http/client.py\u001b[0m in \u001b[0;36mgetresponse\u001b[0;34m(self)\u001b[0m\n\u001b[1;32m   1346\u001b[0m             \u001b[0;32mtry\u001b[0m\u001b[0;34m:\u001b[0m\u001b[0;34m\u001b[0m\u001b[0;34m\u001b[0m\u001b[0m\n\u001b[0;32m-> 1347\u001b[0;31m                 \u001b[0mresponse\u001b[0m\u001b[0;34m.\u001b[0m\u001b[0mbegin\u001b[0m\u001b[0;34m(\u001b[0m\u001b[0;34m)\u001b[0m\u001b[0;34m\u001b[0m\u001b[0;34m\u001b[0m\u001b[0m\n\u001b[0m\u001b[1;32m   1348\u001b[0m             \u001b[0;32mexcept\u001b[0m \u001b[0mConnectionError\u001b[0m\u001b[0;34m:\u001b[0m\u001b[0;34m\u001b[0m\u001b[0;34m\u001b[0m\u001b[0m\n",
      "\u001b[0;32m/opt/anaconda3/lib/python3.8/http/client.py\u001b[0m in \u001b[0;36mbegin\u001b[0;34m(self)\u001b[0m\n\u001b[1;32m    306\u001b[0m         \u001b[0;32mwhile\u001b[0m \u001b[0;32mTrue\u001b[0m\u001b[0;34m:\u001b[0m\u001b[0;34m\u001b[0m\u001b[0;34m\u001b[0m\u001b[0m\n\u001b[0;32m--> 307\u001b[0;31m             \u001b[0mversion\u001b[0m\u001b[0;34m,\u001b[0m \u001b[0mstatus\u001b[0m\u001b[0;34m,\u001b[0m \u001b[0mreason\u001b[0m \u001b[0;34m=\u001b[0m \u001b[0mself\u001b[0m\u001b[0;34m.\u001b[0m\u001b[0m_read_status\u001b[0m\u001b[0;34m(\u001b[0m\u001b[0;34m)\u001b[0m\u001b[0;34m\u001b[0m\u001b[0;34m\u001b[0m\u001b[0m\n\u001b[0m\u001b[1;32m    308\u001b[0m             \u001b[0;32mif\u001b[0m \u001b[0mstatus\u001b[0m \u001b[0;34m!=\u001b[0m \u001b[0mCONTINUE\u001b[0m\u001b[0;34m:\u001b[0m\u001b[0;34m\u001b[0m\u001b[0;34m\u001b[0m\u001b[0m\n",
      "\u001b[0;32m/opt/anaconda3/lib/python3.8/http/client.py\u001b[0m in \u001b[0;36m_read_status\u001b[0;34m(self)\u001b[0m\n\u001b[1;32m    267\u001b[0m     \u001b[0;32mdef\u001b[0m \u001b[0m_read_status\u001b[0m\u001b[0;34m(\u001b[0m\u001b[0mself\u001b[0m\u001b[0;34m)\u001b[0m\u001b[0;34m:\u001b[0m\u001b[0;34m\u001b[0m\u001b[0;34m\u001b[0m\u001b[0m\n\u001b[0;32m--> 268\u001b[0;31m         \u001b[0mline\u001b[0m \u001b[0;34m=\u001b[0m \u001b[0mstr\u001b[0m\u001b[0;34m(\u001b[0m\u001b[0mself\u001b[0m\u001b[0;34m.\u001b[0m\u001b[0mfp\u001b[0m\u001b[0;34m.\u001b[0m\u001b[0mreadline\u001b[0m\u001b[0;34m(\u001b[0m\u001b[0m_MAXLINE\u001b[0m \u001b[0;34m+\u001b[0m \u001b[0;36m1\u001b[0m\u001b[0;34m)\u001b[0m\u001b[0;34m,\u001b[0m \u001b[0;34m\"iso-8859-1\"\u001b[0m\u001b[0;34m)\u001b[0m\u001b[0;34m\u001b[0m\u001b[0;34m\u001b[0m\u001b[0m\n\u001b[0m\u001b[1;32m    269\u001b[0m         \u001b[0;32mif\u001b[0m \u001b[0mlen\u001b[0m\u001b[0;34m(\u001b[0m\u001b[0mline\u001b[0m\u001b[0;34m)\u001b[0m \u001b[0;34m>\u001b[0m \u001b[0m_MAXLINE\u001b[0m\u001b[0;34m:\u001b[0m\u001b[0;34m\u001b[0m\u001b[0;34m\u001b[0m\u001b[0m\n",
      "\u001b[0;32m/opt/anaconda3/lib/python3.8/socket.py\u001b[0m in \u001b[0;36mreadinto\u001b[0;34m(self, b)\u001b[0m\n\u001b[1;32m    668\u001b[0m             \u001b[0;32mtry\u001b[0m\u001b[0;34m:\u001b[0m\u001b[0;34m\u001b[0m\u001b[0;34m\u001b[0m\u001b[0m\n\u001b[0;32m--> 669\u001b[0;31m                 \u001b[0;32mreturn\u001b[0m \u001b[0mself\u001b[0m\u001b[0;34m.\u001b[0m\u001b[0m_sock\u001b[0m\u001b[0;34m.\u001b[0m\u001b[0mrecv_into\u001b[0m\u001b[0;34m(\u001b[0m\u001b[0mb\u001b[0m\u001b[0;34m)\u001b[0m\u001b[0;34m\u001b[0m\u001b[0;34m\u001b[0m\u001b[0m\n\u001b[0m\u001b[1;32m    670\u001b[0m             \u001b[0;32mexcept\u001b[0m \u001b[0mtimeout\u001b[0m\u001b[0;34m:\u001b[0m\u001b[0;34m\u001b[0m\u001b[0;34m\u001b[0m\u001b[0m\n",
      "\u001b[0;32m/opt/anaconda3/lib/python3.8/ssl.py\u001b[0m in \u001b[0;36mrecv_into\u001b[0;34m(self, buffer, nbytes, flags)\u001b[0m\n\u001b[1;32m   1240\u001b[0m                   self.__class__)\n\u001b[0;32m-> 1241\u001b[0;31m             \u001b[0;32mreturn\u001b[0m \u001b[0mself\u001b[0m\u001b[0;34m.\u001b[0m\u001b[0mread\u001b[0m\u001b[0;34m(\u001b[0m\u001b[0mnbytes\u001b[0m\u001b[0;34m,\u001b[0m \u001b[0mbuffer\u001b[0m\u001b[0;34m)\u001b[0m\u001b[0;34m\u001b[0m\u001b[0;34m\u001b[0m\u001b[0m\n\u001b[0m\u001b[1;32m   1242\u001b[0m         \u001b[0;32melse\u001b[0m\u001b[0;34m:\u001b[0m\u001b[0;34m\u001b[0m\u001b[0;34m\u001b[0m\u001b[0m\n",
      "\u001b[0;32m/opt/anaconda3/lib/python3.8/ssl.py\u001b[0m in \u001b[0;36mread\u001b[0;34m(self, len, buffer)\u001b[0m\n\u001b[1;32m   1098\u001b[0m             \u001b[0;32mif\u001b[0m \u001b[0mbuffer\u001b[0m \u001b[0;32mis\u001b[0m \u001b[0;32mnot\u001b[0m \u001b[0;32mNone\u001b[0m\u001b[0;34m:\u001b[0m\u001b[0;34m\u001b[0m\u001b[0;34m\u001b[0m\u001b[0m\n\u001b[0;32m-> 1099\u001b[0;31m                 \u001b[0;32mreturn\u001b[0m \u001b[0mself\u001b[0m\u001b[0;34m.\u001b[0m\u001b[0m_sslobj\u001b[0m\u001b[0;34m.\u001b[0m\u001b[0mread\u001b[0m\u001b[0;34m(\u001b[0m\u001b[0mlen\u001b[0m\u001b[0;34m,\u001b[0m \u001b[0mbuffer\u001b[0m\u001b[0;34m)\u001b[0m\u001b[0;34m\u001b[0m\u001b[0;34m\u001b[0m\u001b[0m\n\u001b[0m\u001b[1;32m   1100\u001b[0m             \u001b[0;32melse\u001b[0m\u001b[0;34m:\u001b[0m\u001b[0;34m\u001b[0m\u001b[0;34m\u001b[0m\u001b[0m\n",
      "\u001b[0;31mTimeoutError\u001b[0m: [Errno 60] Operation timed out",
      "\nDuring handling of the above exception, another exception occurred:\n",
      "\u001b[0;31mReadTimeoutError\u001b[0m                          Traceback (most recent call last)",
      "\u001b[0;32m/opt/anaconda3/lib/python3.8/site-packages/requests/adapters.py\u001b[0m in \u001b[0;36msend\u001b[0;34m(self, request, stream, timeout, verify, cert, proxies)\u001b[0m\n\u001b[1;32m    438\u001b[0m             \u001b[0;32mif\u001b[0m \u001b[0;32mnot\u001b[0m \u001b[0mchunked\u001b[0m\u001b[0;34m:\u001b[0m\u001b[0;34m\u001b[0m\u001b[0;34m\u001b[0m\u001b[0m\n\u001b[0;32m--> 439\u001b[0;31m                 resp = conn.urlopen(\n\u001b[0m\u001b[1;32m    440\u001b[0m                     \u001b[0mmethod\u001b[0m\u001b[0;34m=\u001b[0m\u001b[0mrequest\u001b[0m\u001b[0;34m.\u001b[0m\u001b[0mmethod\u001b[0m\u001b[0;34m,\u001b[0m\u001b[0;34m\u001b[0m\u001b[0;34m\u001b[0m\u001b[0m\n",
      "\u001b[0;32m/opt/anaconda3/lib/python3.8/site-packages/urllib3/connectionpool.py\u001b[0m in \u001b[0;36murlopen\u001b[0;34m(self, method, url, body, headers, retries, redirect, assert_same_host, timeout, pool_timeout, release_conn, chunked, body_pos, **response_kw)\u001b[0m\n\u001b[1;32m    754\u001b[0m \u001b[0;34m\u001b[0m\u001b[0m\n\u001b[0;32m--> 755\u001b[0;31m             retries = retries.increment(\n\u001b[0m\u001b[1;32m    756\u001b[0m                 \u001b[0mmethod\u001b[0m\u001b[0;34m,\u001b[0m \u001b[0murl\u001b[0m\u001b[0;34m,\u001b[0m \u001b[0merror\u001b[0m\u001b[0;34m=\u001b[0m\u001b[0me\u001b[0m\u001b[0;34m,\u001b[0m \u001b[0m_pool\u001b[0m\u001b[0;34m=\u001b[0m\u001b[0mself\u001b[0m\u001b[0;34m,\u001b[0m \u001b[0m_stacktrace\u001b[0m\u001b[0;34m=\u001b[0m\u001b[0msys\u001b[0m\u001b[0;34m.\u001b[0m\u001b[0mexc_info\u001b[0m\u001b[0;34m(\u001b[0m\u001b[0;34m)\u001b[0m\u001b[0;34m[\u001b[0m\u001b[0;36m2\u001b[0m\u001b[0;34m]\u001b[0m\u001b[0;34m\u001b[0m\u001b[0;34m\u001b[0m\u001b[0m\n",
      "\u001b[0;32m/opt/anaconda3/lib/python3.8/site-packages/urllib3/util/retry.py\u001b[0m in \u001b[0;36mincrement\u001b[0;34m(self, method, url, response, error, _pool, _stacktrace)\u001b[0m\n\u001b[1;32m    531\u001b[0m             \u001b[0;32mif\u001b[0m \u001b[0mread\u001b[0m \u001b[0;32mis\u001b[0m \u001b[0;32mFalse\u001b[0m \u001b[0;32mor\u001b[0m \u001b[0;32mnot\u001b[0m \u001b[0mself\u001b[0m\u001b[0;34m.\u001b[0m\u001b[0m_is_method_retryable\u001b[0m\u001b[0;34m(\u001b[0m\u001b[0mmethod\u001b[0m\u001b[0;34m)\u001b[0m\u001b[0;34m:\u001b[0m\u001b[0;34m\u001b[0m\u001b[0;34m\u001b[0m\u001b[0m\n\u001b[0;32m--> 532\u001b[0;31m                 \u001b[0;32mraise\u001b[0m \u001b[0msix\u001b[0m\u001b[0;34m.\u001b[0m\u001b[0mreraise\u001b[0m\u001b[0;34m(\u001b[0m\u001b[0mtype\u001b[0m\u001b[0;34m(\u001b[0m\u001b[0merror\u001b[0m\u001b[0;34m)\u001b[0m\u001b[0;34m,\u001b[0m \u001b[0merror\u001b[0m\u001b[0;34m,\u001b[0m \u001b[0m_stacktrace\u001b[0m\u001b[0;34m)\u001b[0m\u001b[0;34m\u001b[0m\u001b[0;34m\u001b[0m\u001b[0m\n\u001b[0m\u001b[1;32m    533\u001b[0m             \u001b[0;32melif\u001b[0m \u001b[0mread\u001b[0m \u001b[0;32mis\u001b[0m \u001b[0;32mnot\u001b[0m \u001b[0;32mNone\u001b[0m\u001b[0;34m:\u001b[0m\u001b[0;34m\u001b[0m\u001b[0;34m\u001b[0m\u001b[0m\n",
      "\u001b[0;32m/opt/anaconda3/lib/python3.8/site-packages/urllib3/packages/six.py\u001b[0m in \u001b[0;36mreraise\u001b[0;34m(tp, value, tb)\u001b[0m\n\u001b[1;32m    734\u001b[0m                 \u001b[0;32mraise\u001b[0m \u001b[0mvalue\u001b[0m\u001b[0;34m.\u001b[0m\u001b[0mwith_traceback\u001b[0m\u001b[0;34m(\u001b[0m\u001b[0mtb\u001b[0m\u001b[0;34m)\u001b[0m\u001b[0;34m\u001b[0m\u001b[0;34m\u001b[0m\u001b[0m\n\u001b[0;32m--> 735\u001b[0;31m             \u001b[0;32mraise\u001b[0m \u001b[0mvalue\u001b[0m\u001b[0;34m\u001b[0m\u001b[0;34m\u001b[0m\u001b[0m\n\u001b[0m\u001b[1;32m    736\u001b[0m         \u001b[0;32mfinally\u001b[0m\u001b[0;34m:\u001b[0m\u001b[0;34m\u001b[0m\u001b[0;34m\u001b[0m\u001b[0m\n",
      "\u001b[0;32m/opt/anaconda3/lib/python3.8/site-packages/urllib3/connectionpool.py\u001b[0m in \u001b[0;36murlopen\u001b[0;34m(self, method, url, body, headers, retries, redirect, assert_same_host, timeout, pool_timeout, release_conn, chunked, body_pos, **response_kw)\u001b[0m\n\u001b[1;32m    698\u001b[0m             \u001b[0;31m# Make the request on the httplib connection object.\u001b[0m\u001b[0;34m\u001b[0m\u001b[0;34m\u001b[0m\u001b[0;34m\u001b[0m\u001b[0m\n\u001b[0;32m--> 699\u001b[0;31m             httplib_response = self._make_request(\n\u001b[0m\u001b[1;32m    700\u001b[0m                 \u001b[0mconn\u001b[0m\u001b[0;34m,\u001b[0m\u001b[0;34m\u001b[0m\u001b[0;34m\u001b[0m\u001b[0m\n",
      "\u001b[0;32m/opt/anaconda3/lib/python3.8/site-packages/urllib3/connectionpool.py\u001b[0m in \u001b[0;36m_make_request\u001b[0;34m(self, conn, method, url, timeout, chunked, **httplib_request_kw)\u001b[0m\n\u001b[1;32m    446\u001b[0m         \u001b[0;32mexcept\u001b[0m \u001b[0;34m(\u001b[0m\u001b[0mSocketTimeout\u001b[0m\u001b[0;34m,\u001b[0m \u001b[0mBaseSSLError\u001b[0m\u001b[0;34m,\u001b[0m \u001b[0mSocketError\u001b[0m\u001b[0;34m)\u001b[0m \u001b[0;32mas\u001b[0m \u001b[0me\u001b[0m\u001b[0;34m:\u001b[0m\u001b[0;34m\u001b[0m\u001b[0;34m\u001b[0m\u001b[0m\n\u001b[0;32m--> 447\u001b[0;31m             \u001b[0mself\u001b[0m\u001b[0;34m.\u001b[0m\u001b[0m_raise_timeout\u001b[0m\u001b[0;34m(\u001b[0m\u001b[0merr\u001b[0m\u001b[0;34m=\u001b[0m\u001b[0me\u001b[0m\u001b[0;34m,\u001b[0m \u001b[0murl\u001b[0m\u001b[0;34m=\u001b[0m\u001b[0murl\u001b[0m\u001b[0;34m,\u001b[0m \u001b[0mtimeout_value\u001b[0m\u001b[0;34m=\u001b[0m\u001b[0mread_timeout\u001b[0m\u001b[0;34m)\u001b[0m\u001b[0;34m\u001b[0m\u001b[0;34m\u001b[0m\u001b[0m\n\u001b[0m\u001b[1;32m    448\u001b[0m             \u001b[0;32mraise\u001b[0m\u001b[0;34m\u001b[0m\u001b[0;34m\u001b[0m\u001b[0m\n",
      "\u001b[0;32m/opt/anaconda3/lib/python3.8/site-packages/urllib3/connectionpool.py\u001b[0m in \u001b[0;36m_raise_timeout\u001b[0;34m(self, err, url, timeout_value)\u001b[0m\n\u001b[1;32m    352\u001b[0m         ):  # Python < 2.7.4\n\u001b[0;32m--> 353\u001b[0;31m             raise ReadTimeoutError(\n\u001b[0m\u001b[1;32m    354\u001b[0m                 \u001b[0mself\u001b[0m\u001b[0;34m,\u001b[0m \u001b[0murl\u001b[0m\u001b[0;34m,\u001b[0m \u001b[0;34m\"Read timed out. (read timeout=%s)\"\u001b[0m \u001b[0;34m%\u001b[0m \u001b[0mtimeout_value\u001b[0m\u001b[0;34m\u001b[0m\u001b[0;34m\u001b[0m\u001b[0m\n",
      "\u001b[0;31mReadTimeoutError\u001b[0m: HTTPSConnectionPool(host='www.immonet.de', port=443): Read timed out. (read timeout=None)",
      "\nDuring handling of the above exception, another exception occurred:\n",
      "\u001b[0;31mReadTimeout\u001b[0m                               Traceback (most recent call last)",
      "\u001b[0;32m<ipython-input-4-fcafcf0de819>\u001b[0m in \u001b[0;36m<module>\u001b[0;34m\u001b[0m\n\u001b[1;32m     12\u001b[0m     \u001b[0murl\u001b[0m \u001b[0;34m=\u001b[0m \u001b[0;34mf\"https://www.immonet.de/angebot/{Id}?drop=sel&related=false&product=standard\"\u001b[0m\u001b[0;34m\u001b[0m\u001b[0;34m\u001b[0m\u001b[0m\n\u001b[1;32m     13\u001b[0m     \u001b[0mheaders\u001b[0m \u001b[0;34m=\u001b[0m \u001b[0;34m{\u001b[0m\u001b[0;34m'User-Agent'\u001b[0m\u001b[0;34m:\u001b[0m \u001b[0;34m'Mozilla/5.0 (Macintosh; Intel Mac OS X 10_11_5) AppleWebKit/537.36 (KHTML, like Gecko) Chrome/50.0.2661.102 Safari/537.36'\u001b[0m\u001b[0;34m}\u001b[0m\u001b[0;34m\u001b[0m\u001b[0;34m\u001b[0m\u001b[0m\n\u001b[0;32m---> 14\u001b[0;31m     \u001b[0mpage\u001b[0m \u001b[0;34m=\u001b[0m \u001b[0mrequests\u001b[0m\u001b[0;34m.\u001b[0m\u001b[0mget\u001b[0m\u001b[0;34m(\u001b[0m\u001b[0murl\u001b[0m\u001b[0;34m,\u001b[0m \u001b[0mheaders\u001b[0m\u001b[0;34m=\u001b[0m\u001b[0mheaders\u001b[0m\u001b[0;34m)\u001b[0m\u001b[0;34m\u001b[0m\u001b[0;34m\u001b[0m\u001b[0m\n\u001b[0m\u001b[1;32m     15\u001b[0m     \u001b[0msoup\u001b[0m \u001b[0;34m=\u001b[0m \u001b[0mBeautifulSoup\u001b[0m\u001b[0;34m(\u001b[0m\u001b[0mpage\u001b[0m\u001b[0;34m.\u001b[0m\u001b[0mtext\u001b[0m\u001b[0;34m,\u001b[0m \u001b[0;34m\"html.parser\"\u001b[0m\u001b[0;34m)\u001b[0m\u001b[0;34m\u001b[0m\u001b[0;34m\u001b[0m\u001b[0m\n\u001b[1;32m     16\u001b[0m \u001b[0;34m\u001b[0m\u001b[0m\n",
      "\u001b[0;32m/opt/anaconda3/lib/python3.8/site-packages/requests/api.py\u001b[0m in \u001b[0;36mget\u001b[0;34m(url, params, **kwargs)\u001b[0m\n\u001b[1;32m     74\u001b[0m \u001b[0;34m\u001b[0m\u001b[0m\n\u001b[1;32m     75\u001b[0m     \u001b[0mkwargs\u001b[0m\u001b[0;34m.\u001b[0m\u001b[0msetdefault\u001b[0m\u001b[0;34m(\u001b[0m\u001b[0;34m'allow_redirects'\u001b[0m\u001b[0;34m,\u001b[0m \u001b[0;32mTrue\u001b[0m\u001b[0;34m)\u001b[0m\u001b[0;34m\u001b[0m\u001b[0;34m\u001b[0m\u001b[0m\n\u001b[0;32m---> 76\u001b[0;31m     \u001b[0;32mreturn\u001b[0m \u001b[0mrequest\u001b[0m\u001b[0;34m(\u001b[0m\u001b[0;34m'get'\u001b[0m\u001b[0;34m,\u001b[0m \u001b[0murl\u001b[0m\u001b[0;34m,\u001b[0m \u001b[0mparams\u001b[0m\u001b[0;34m=\u001b[0m\u001b[0mparams\u001b[0m\u001b[0;34m,\u001b[0m \u001b[0;34m**\u001b[0m\u001b[0mkwargs\u001b[0m\u001b[0;34m)\u001b[0m\u001b[0;34m\u001b[0m\u001b[0;34m\u001b[0m\u001b[0m\n\u001b[0m\u001b[1;32m     77\u001b[0m \u001b[0;34m\u001b[0m\u001b[0m\n\u001b[1;32m     78\u001b[0m \u001b[0;34m\u001b[0m\u001b[0m\n",
      "\u001b[0;32m/opt/anaconda3/lib/python3.8/site-packages/requests/api.py\u001b[0m in \u001b[0;36mrequest\u001b[0;34m(method, url, **kwargs)\u001b[0m\n\u001b[1;32m     59\u001b[0m     \u001b[0;31m# cases, and look like a memory leak in others.\u001b[0m\u001b[0;34m\u001b[0m\u001b[0;34m\u001b[0m\u001b[0;34m\u001b[0m\u001b[0m\n\u001b[1;32m     60\u001b[0m     \u001b[0;32mwith\u001b[0m \u001b[0msessions\u001b[0m\u001b[0;34m.\u001b[0m\u001b[0mSession\u001b[0m\u001b[0;34m(\u001b[0m\u001b[0;34m)\u001b[0m \u001b[0;32mas\u001b[0m \u001b[0msession\u001b[0m\u001b[0;34m:\u001b[0m\u001b[0;34m\u001b[0m\u001b[0;34m\u001b[0m\u001b[0m\n\u001b[0;32m---> 61\u001b[0;31m         \u001b[0;32mreturn\u001b[0m \u001b[0msession\u001b[0m\u001b[0;34m.\u001b[0m\u001b[0mrequest\u001b[0m\u001b[0;34m(\u001b[0m\u001b[0mmethod\u001b[0m\u001b[0;34m=\u001b[0m\u001b[0mmethod\u001b[0m\u001b[0;34m,\u001b[0m \u001b[0murl\u001b[0m\u001b[0;34m=\u001b[0m\u001b[0murl\u001b[0m\u001b[0;34m,\u001b[0m \u001b[0;34m**\u001b[0m\u001b[0mkwargs\u001b[0m\u001b[0;34m)\u001b[0m\u001b[0;34m\u001b[0m\u001b[0;34m\u001b[0m\u001b[0m\n\u001b[0m\u001b[1;32m     62\u001b[0m \u001b[0;34m\u001b[0m\u001b[0m\n\u001b[1;32m     63\u001b[0m \u001b[0;34m\u001b[0m\u001b[0m\n",
      "\u001b[0;32m/opt/anaconda3/lib/python3.8/site-packages/requests/sessions.py\u001b[0m in \u001b[0;36mrequest\u001b[0;34m(self, method, url, params, data, headers, cookies, files, auth, timeout, allow_redirects, proxies, hooks, stream, verify, cert, json)\u001b[0m\n\u001b[1;32m    540\u001b[0m         }\n\u001b[1;32m    541\u001b[0m         \u001b[0msend_kwargs\u001b[0m\u001b[0;34m.\u001b[0m\u001b[0mupdate\u001b[0m\u001b[0;34m(\u001b[0m\u001b[0msettings\u001b[0m\u001b[0;34m)\u001b[0m\u001b[0;34m\u001b[0m\u001b[0;34m\u001b[0m\u001b[0m\n\u001b[0;32m--> 542\u001b[0;31m         \u001b[0mresp\u001b[0m \u001b[0;34m=\u001b[0m \u001b[0mself\u001b[0m\u001b[0;34m.\u001b[0m\u001b[0msend\u001b[0m\u001b[0;34m(\u001b[0m\u001b[0mprep\u001b[0m\u001b[0;34m,\u001b[0m \u001b[0;34m**\u001b[0m\u001b[0msend_kwargs\u001b[0m\u001b[0;34m)\u001b[0m\u001b[0;34m\u001b[0m\u001b[0;34m\u001b[0m\u001b[0m\n\u001b[0m\u001b[1;32m    543\u001b[0m \u001b[0;34m\u001b[0m\u001b[0m\n\u001b[1;32m    544\u001b[0m         \u001b[0;32mreturn\u001b[0m \u001b[0mresp\u001b[0m\u001b[0;34m\u001b[0m\u001b[0;34m\u001b[0m\u001b[0m\n",
      "\u001b[0;32m/opt/anaconda3/lib/python3.8/site-packages/requests/sessions.py\u001b[0m in \u001b[0;36msend\u001b[0;34m(self, request, **kwargs)\u001b[0m\n\u001b[1;32m    653\u001b[0m \u001b[0;34m\u001b[0m\u001b[0m\n\u001b[1;32m    654\u001b[0m         \u001b[0;31m# Send the request\u001b[0m\u001b[0;34m\u001b[0m\u001b[0;34m\u001b[0m\u001b[0;34m\u001b[0m\u001b[0m\n\u001b[0;32m--> 655\u001b[0;31m         \u001b[0mr\u001b[0m \u001b[0;34m=\u001b[0m \u001b[0madapter\u001b[0m\u001b[0;34m.\u001b[0m\u001b[0msend\u001b[0m\u001b[0;34m(\u001b[0m\u001b[0mrequest\u001b[0m\u001b[0;34m,\u001b[0m \u001b[0;34m**\u001b[0m\u001b[0mkwargs\u001b[0m\u001b[0;34m)\u001b[0m\u001b[0;34m\u001b[0m\u001b[0;34m\u001b[0m\u001b[0m\n\u001b[0m\u001b[1;32m    656\u001b[0m \u001b[0;34m\u001b[0m\u001b[0m\n\u001b[1;32m    657\u001b[0m         \u001b[0;31m# Total elapsed time of the request (approximately)\u001b[0m\u001b[0;34m\u001b[0m\u001b[0;34m\u001b[0m\u001b[0;34m\u001b[0m\u001b[0m\n",
      "\u001b[0;32m/opt/anaconda3/lib/python3.8/site-packages/requests/adapters.py\u001b[0m in \u001b[0;36msend\u001b[0;34m(self, request, stream, timeout, verify, cert, proxies)\u001b[0m\n\u001b[1;32m    527\u001b[0m                 \u001b[0;32mraise\u001b[0m \u001b[0mSSLError\u001b[0m\u001b[0;34m(\u001b[0m\u001b[0me\u001b[0m\u001b[0;34m,\u001b[0m \u001b[0mrequest\u001b[0m\u001b[0;34m=\u001b[0m\u001b[0mrequest\u001b[0m\u001b[0;34m)\u001b[0m\u001b[0;34m\u001b[0m\u001b[0;34m\u001b[0m\u001b[0m\n\u001b[1;32m    528\u001b[0m             \u001b[0;32melif\u001b[0m \u001b[0misinstance\u001b[0m\u001b[0;34m(\u001b[0m\u001b[0me\u001b[0m\u001b[0;34m,\u001b[0m \u001b[0mReadTimeoutError\u001b[0m\u001b[0;34m)\u001b[0m\u001b[0;34m:\u001b[0m\u001b[0;34m\u001b[0m\u001b[0;34m\u001b[0m\u001b[0m\n\u001b[0;32m--> 529\u001b[0;31m                 \u001b[0;32mraise\u001b[0m \u001b[0mReadTimeout\u001b[0m\u001b[0;34m(\u001b[0m\u001b[0me\u001b[0m\u001b[0;34m,\u001b[0m \u001b[0mrequest\u001b[0m\u001b[0;34m=\u001b[0m\u001b[0mrequest\u001b[0m\u001b[0;34m)\u001b[0m\u001b[0;34m\u001b[0m\u001b[0;34m\u001b[0m\u001b[0m\n\u001b[0m\u001b[1;32m    530\u001b[0m             \u001b[0;32melse\u001b[0m\u001b[0;34m:\u001b[0m\u001b[0;34m\u001b[0m\u001b[0;34m\u001b[0m\u001b[0m\n\u001b[1;32m    531\u001b[0m                 \u001b[0;32mraise\u001b[0m\u001b[0;34m\u001b[0m\u001b[0;34m\u001b[0m\u001b[0m\n",
      "\u001b[0;31mReadTimeout\u001b[0m: HTTPSConnectionPool(host='www.immonet.de', port=443): Read timed out. (read timeout=None)"
     ]
    }
   ],
   "source": [
    "# get all infor for all founded offers\n",
    "\n",
    "'''\n",
    "Here we will get the infos from the info panels for each offer.\n",
    "'''\n",
    "\n",
    "infos_list = []\n",
    "now = datetime.now().strftime('%Y-%m-%d-%H:%M:%S')\n",
    "\n",
    "for Id in set(df_ids['offer_id']):\n",
    "\n",
    "    url = f\"https://www.immonet.de/angebot/{Id}?drop=sel&related=false&product=standard\"\n",
    "    headers = {'User-Agent': 'Mozilla/5.0 (Macintosh; Intel Mac OS X 10_11_5) AppleWebKit/537.36 (KHTML, like Gecko) Chrome/50.0.2661.102 Safari/537.36'}\n",
    "    page = requests.get(url, headers=headers)\n",
    "    soup = BeautifulSoup(page.text, \"html.parser\")\n",
    "    \n",
    "    panels_infos = soup.findAll('div', class_='row box-50')\n",
    "    # get all infos about each offer (all infos are mixed)\n",
    "    \n",
    "    offer_infos = []\n",
    "    for panel in panels_infos:\n",
    "        offer_infos.append(panel.text.replace('\\n', '').replace('\\t', '-'))\n",
    "    \n",
    "    infos_list.append({'offer_id': Id,\n",
    "                       'datetime': now,\n",
    "                       #'city': city,\n",
    "                       #'city_code': city_code,\n",
    "                       'infos': offer_infos})\n",
    "    \n",
    "    if len(offer_infos) == 0:\n",
    "        print(Id, ' - ERROR') \n",
    "\n",
    "df_offers_infos = pd.DataFrame(infos_list)"
   ]
  },
  {
   "cell_type": "code",
   "execution_count": null,
   "id": "01d510f5-d830-484d-8b1d-01b56d8f21b7",
   "metadata": {},
   "outputs": [],
   "source": [
    "df_offers_infos = pd.DataFrame(infos_list)"
   ]
  },
  {
   "cell_type": "code",
   "execution_count": null,
   "id": "078c991e-a6d8-4719-8d04-28f9590b82e2",
   "metadata": {},
   "outputs": [],
   "source": [
    "df_offers_infos.shape"
   ]
  },
  {
   "cell_type": "code",
   "execution_count": null,
   "id": "66be4e05-fd37-40ba-9647-3cf5ed4da17a",
   "metadata": {},
   "outputs": [],
   "source": [
    "df_offers_infos.to_csv('../data/all_offers_infos.csv', index=False)"
   ]
  },
  {
   "cell_type": "code",
   "execution_count": null,
   "id": "d3bcc15e-3e58-4777-8ce7-47c930f3a58a",
   "metadata": {},
   "outputs": [],
   "source": [
    "# join both dataframes and save it\n",
    "\n",
    "df_full = df_ids.join(df_offers_infos, on='offer_id', how='left')"
   ]
  },
  {
   "cell_type": "code",
   "execution_count": null,
   "id": "01e0f421-a1dd-4373-8c97-5bddedd6b17e",
   "metadata": {},
   "outputs": [],
   "source": [
    "df_full.to_csv('../data/all_offers_infos_full.csv', index=False)"
   ]
  },
  {
   "cell_type": "markdown",
   "id": "87d7871b-b070-4659-b2b5-247614269a41",
   "metadata": {},
   "source": [
    "## Script"
   ]
  },
  {
   "cell_type": "code",
   "execution_count": null,
   "id": "23253d4b-c8ef-4e32-a244-43c7016c58cb",
   "metadata": {},
   "outputs": [],
   "source": [
    "import os\n",
    "import re\n",
    "import math\n",
    "import requests\n",
    "import numpy as np\n",
    "import pandas as pd\n",
    "from time import sleep\n",
    "from random import randint\n",
    "from bs4 import BeautifulSoup\n",
    "from datetime import datetime\n",
    "\n",
    "'''Extract information from all rent offers from immonet.de\n",
    "\n",
    "This scrip gets all the informations for each rent offer (house or appartment)\n",
    "from immonet.de website for the main German cities and save either as a csv file \n",
    "or in a postgres database.\n",
    "\n",
    "The extracted information is saved as str in a raw format in the column \"infos\".\n",
    "\n",
    "'''\n",
    "\n",
    "def get_offers_by_city():\n",
    "    '''Returns the total number of rent offers (houses and appartments) for each city.\n",
    "    \n",
    "    '''\n",
    "    \n",
    "    # main German cities codes.\n",
    "    cities_dict = {\n",
    "        'Dusseldorf': 100207,\n",
    "        'Berlin': 87372,\n",
    "        'Essen': 102157,\n",
    "        'Munchen': 121673,\n",
    "        'Koln': 113144,\n",
    "        'Stuttgart': 143262,\n",
    "        'Dresden': 100051,\n",
    "        'Hannover': 109489,\n",
    "        'Dortmund': 99990,\n",
    "        'Frankfurt am Main': 105043,\n",
    "        'Hamburg': 109447\n",
    "    }\n",
    "\n",
    "    # list with all offers quantity - haus und wohnung - by city.\n",
    "    cities_offers = []\n",
    "    \n",
    "    # get the number of offers for each city.\n",
    "    for city, code in cities_dict.items():\n",
    "        total_offers = 0\n",
    "\n",
    "        for i in range(1,3):\n",
    "            url = f'https://www.immonet.de/immobiliensuche/sel.do?parentcat={i}&objecttype=1&pageoffset=378&listsize=27&suchart=1&sortby=0&city={code}&marketingtype=2&page=1'\n",
    "            headers = {'User-Agent': 'Mozilla/5.0 (Macintosh; Intel Mac OS X 10_11_5) AppleWebKit/537.36 (KHTML, like Gecko) Chrome/50.0.2661.102 Safari/537.36'}\n",
    "            page = requests.get(url, headers=headers)\n",
    "            soup = BeautifulSoup(page.text, \"html.parser\")\n",
    "\n",
    "            # Find number of rent offers.\n",
    "            a = soup.findAll('h1', class_='box-50')[0].get_text()\n",
    "            total_offers += int(re.search('\\d+', a).group())\n",
    "        \n",
    "        # append the offers in a dict format in cities_offers list\n",
    "        cities_offers.append({'city': city, 'city_code': code, 'offers': total_offers})\n",
    "\n",
    "    #offers_by_page = len(soup.findAll('div', class_=\"col-xs-12 place-over-understitial sel-bg-gray-lighter\")) \n",
    "    \n",
    "    df_offers = pd.DataFrame(cities_offers)\n",
    "    \n",
    "    return df_offers\n",
    "\n",
    "def get_offers_ids(df_offers):\n",
    "    '''Gets all the rent offers ids for each city\n",
    "    '''\n",
    "    \n",
    "    # List of all ids\n",
    "    ids_list = []\n",
    "    offers_by_page = 26\n",
    "    offers_list_1page = soup.findAll('div', class_=\"col-xs-12 place-over-understitial sel-bg-gray-lighter\")\n",
    "\n",
    "    for c in range(len(df_offers)):\n",
    "        city = df_offers.loc[c]['city'] \n",
    "        city_code = df_offers.loc[c]['city_code']\n",
    "        offers = df_offers.loc[c]['offers']\n",
    "\n",
    "        # Get the number of pages to scrape for each city\n",
    "        number_of_pages = math.floor(offers / offers_by_page)\n",
    "\n",
    "        # wohnung/haus code\n",
    "        l_opt = [1, 2]\n",
    "\n",
    "        for opt in l_opt: # switch into appartments and houses\n",
    "            for page in range(number_of_pages):\n",
    "                url = f\"https://www.immonet.de/immobiliensuche/sel.do?parentcat={opt}&objecttype=1&pageoffset=1&listsize=26&suchart=1&sortby=0&city={city_code}&marketingtype=2&page={page}\"\n",
    "                headers = {'User-Agent': 'Mozilla/5.0 (Macintosh; Intel Mac OS X 10_11_5) AppleWebKit/537.36 (KHTML, like Gecko) Chrome/50.0.2661.102 Safari/537.36'}\n",
    "                page = requests.get(url, headers=headers)\n",
    "                soup = BeautifulSoup(page.text, \"html.parser\")\n",
    "                \n",
    "                # all the offers for 01 page\n",
    "                offers_list_1page = soup.findAll('div', class_=\"col-xs-12 place-over-understitial sel-bg-gray-lighter\")\n",
    "                \n",
    "                # for loop to get all the offers for all pages for all cities\n",
    "                for i in range(len(offers_list_1page)):\n",
    "                    try:\n",
    "                        if opt == 1:\n",
    "                            ids_list.append({ 'offer_id': offers_list_1page[i].find('a')['data-object-id'], 'city': city, 'city_code': city_code, 'type': 'wohnung'})\n",
    "                        if opt == 2:\n",
    "                            ids_list.append({ 'offer_id': offers_list_1page[i].find('a')['data-object-id'], 'city': city, 'city_code': city_code, 'type': 'haus'})\n",
    "                    except:\n",
    "                        pass\n",
    "                    \n",
    "                # Some wait time to not overload the website.    \n",
    "                sleep(randint(1, 2)) \n",
    "        sleep(randint(1, 5))          \n",
    "\n",
    "    # Create a dataframe with the infos\n",
    "    df_ids = pd.DataFrame(ids_list)\n",
    "    \n",
    "    return df_ids\n",
    "\n",
    "def get_offers_infos(df_ids, save=False):\n",
    "    '''Get all the infos from each rent offer and save it in a csv file. \n",
    "    \n",
    "    The infos comes in row format.\n",
    "    \n",
    "    Parameters\n",
    "    ----------\n",
    "    df_ids: DataFrame\n",
    "        DataFrame with all the offers ids to be scraped\n",
    "    \n",
    "    save: boolean\n",
    "        if the infos will be saved or not as a csv file.\n",
    "    '''\n",
    "    \n",
    "    # create a list to store all the information about each offer\n",
    "    infos_list = []\n",
    "    \n",
    "    # scrape time\n",
    "    now = datetime.now().strftime('%Y-%m-%d-%H:%M:%S')\n",
    "\n",
    "    for Id in set(df_ids['offer_id']):\n",
    "\n",
    "        url = f\"https://www.immonet.de/angebot/{Id}?drop=sel&related=false&product=standard\"\n",
    "        headers = {'User-Agent': 'Mozilla/5.0 (Macintosh; Intel Mac OS X 10_11_5) AppleWebKit/537.36 (KHTML, like Gecko) Chrome/50.0.2661.102 Safari/537.36'}\n",
    "        page = requests.get(url, headers=headers)\n",
    "        soup = BeautifulSoup(page.text, \"html.parser\")\n",
    "\n",
    "        panels_infos = soup.findAll('div', class_='row box-50')\n",
    "        \n",
    "        # get all infos about each offer (all infos are mixed)\n",
    "        offer_infos = []\n",
    "        for panel in panels_infos:\n",
    "            offer_infos.append(panel.text.replace('\\n', '').replace('\\t', '-'))\n",
    "        \n",
    "        # store the infos for each offer in a list inside a list\n",
    "        infos_list.append({'offer_id': Id,\n",
    "                           'datetime': now,\n",
    "                           #'city': city,\n",
    "                           #'city_code': city_code,\n",
    "                           'infos': offer_infos})\n",
    "        \n",
    "        # print an error when a offer is no longuer available or returned no information\n",
    "        if len(offer_infos) == 0:\n",
    "            print(Id, ' - ERROR') \n",
    "\n",
    "    df_offers_infos = pd.DataFrame(infos_list)\n",
    "    \n",
    "    print(f'Was extracted {df_offers_infos.shape[0]} offers.')\n",
    "    \n",
    "    if save:\n",
    "        # save as csv file\n",
    "        now2 = datetime.now().strftime('%Y_%m_%d_%H_%M_%S')\n",
    "        output_dir = '../data/'\n",
    "        filename = f'immonet_de_infos_{now2}.csv'\n",
    "        df_ids.to_csv(os.path.join(output_dir, filename), index=False)\n",
    "    \n",
    "    return df_offers_infos\n",
    "\n",
    "\n",
    "def postgres_storage(df_offers_infos):\n",
    "    '''\n",
    "    Saves the row_infos.csv in a postgres database\n",
    "    '''"
   ]
  }
 ],
 "metadata": {
  "kernelspec": {
   "display_name": "Python 3",
   "language": "python",
   "name": "python3"
  },
  "language_info": {
   "codemirror_mode": {
    "name": "ipython",
    "version": 3
   },
   "file_extension": ".py",
   "mimetype": "text/x-python",
   "name": "python",
   "nbconvert_exporter": "python",
   "pygments_lexer": "ipython3",
   "version": "3.8.8"
  }
 },
 "nbformat": 4,
 "nbformat_minor": 5
}
