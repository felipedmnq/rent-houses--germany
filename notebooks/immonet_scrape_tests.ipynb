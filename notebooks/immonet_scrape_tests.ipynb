{
 "cells": [
  {
   "cell_type": "markdown",
   "id": "586f4239-68a0-40e3-8553-96398b15632f",
   "metadata": {},
   "source": [
    "# Imports"
   ]
  },
  {
   "cell_type": "code",
   "execution_count": 1,
   "id": "91014cd5-9736-4a0f-8024-1fe00e98b96f",
   "metadata": {},
   "outputs": [],
   "source": [
    "import os\n",
    "import re\n",
    "import math\n",
    "import requests\n",
    "import numpy as np\n",
    "import pandas as pd\n",
    "import pandas.io.sql as sqlio\n",
    "from time import sleep\n",
    "from random import randint\n",
    "from bs4 import BeautifulSoup\n",
    "from datetime import datetime\n",
    "from sqlalchemy import create_engine"
   ]
  },
  {
   "cell_type": "markdown",
   "id": "f098da55-c297-4fc0-8209-bab86ecb0e67",
   "metadata": {
    "heading_collapsed": "true",
    "tags": []
   },
   "source": [
    "## Get infos for one city - Düsseldorf"
   ]
  },
  {
   "cell_type": "code",
   "execution_count": 7,
   "id": "a4bcff2c-f5b0-4c45-a408-26a3bae11797",
   "metadata": {},
   "outputs": [],
   "source": [
    "# only wohnung\n",
    "\n",
    "url = 'https://www.immonet.de/immobiliensuche/sel.do?parentcat=1&objecttype=1&pageoffset=378&listsize=27&suchart=1&sortby=0&city=100207&marketingtype=2&page=1'\n",
    "headers = {'User-Agent': 'Mozilla/5.0 (Macintosh; Intel Mac OS X 10_11_5) AppleWebKit/537.36 (KHTML, like Gecko) Chrome/50.0.2661.102 Safari/537.36'}\n",
    "page = requests.get(url, headers=headers)\n",
    "soup = BeautifulSoup(page.text, \"html.parser\")\n",
    "\n",
    "# Find number of rent offers.\n",
    "a = soup.findAll('h1', class_='box-50')[0].get_text()\n",
    "total_offers = int(re.search('\\d+', a).group())"
   ]
  },
  {
   "cell_type": "markdown",
   "id": "86b0eb35-3b29-4f5c-9ec0-0bcfefe933ff",
   "metadata": {
    "heading_collapsed": "true",
    "tags": []
   },
   "source": [
    "## Get all offers ids for Düsseldorf - only Wohnung (apartments)"
   ]
  },
  {
   "cell_type": "code",
   "execution_count": 493,
   "id": "6c98e72c-4d52-499e-bd37-f11f398da3ed",
   "metadata": {
    "tags": []
   },
   "outputs": [],
   "source": [
    "offers_list_1page = soup.findAll('div', class_=\"col-xs-12 place-over-understitial sel-bg-gray-lighter\")\n",
    "\n",
    "# Get the number of pages to scrape - rounded to down\n",
    "number_of_pages = math.floor(total_offers / len(offers_list_1page))\n",
    "\n",
    "# City code\n",
    "city_code = \"100207\" # Düsseldorf\n",
    "\n",
    "# List of all ids\n",
    "ids_list = []\n",
    "\n",
    "\n",
    "for page in range(number_of_pages):\n",
    "    \n",
    "    url = f\"https://www.immonet.de/immobiliensuche/sel.do?parentcat=1&objecttype=1&pageoffset=1&listsize=26&suchart=1&sortby=0&city={city_code}&marketingtype=2&page={page}\"\n",
    "    headers = {'User-Agent': 'Mozilla/5.0 (Macintosh; Intel Mac OS X 10_11_5) AppleWebKit/537.36 (KHTML, like Gecko) Chrome/50.0.2661.102 Safari/537.36'}\n",
    "    page = requests.get(url, headers=headers)\n",
    "    soup = BeautifulSoup(page.text, \"html.parser\")\n",
    "    \n",
    "    offers_list_1page = soup.findAll('div', class_=\"col-xs-12 place-over-understitial sel-bg-gray-lighter\")\n",
    "\n",
    "    for i in range(len(offers_list_1page)):\n",
    "        try:\n",
    "            ids_list.append(offers_list_1page[i].find('a')['data-object-id'])\n",
    "        except:\n",
    "            pass\n",
    "        #sleep(randint(1, 4))"
   ]
  },
  {
   "cell_type": "code",
   "execution_count": 494,
   "id": "410ce778-acd9-4a73-8286-08aae3698b5a",
   "metadata": {},
   "outputs": [
    {
     "data": {
      "text/plain": [
       "366"
      ]
     },
     "execution_count": 494,
     "metadata": {},
     "output_type": "execute_result"
    }
   ],
   "source": [
    "len(ids_list)"
   ]
  },
  {
   "cell_type": "code",
   "execution_count": 495,
   "id": "3a43f947-a651-4548-b935-af2064e7e558",
   "metadata": {},
   "outputs": [
    {
     "data": {
      "text/plain": [
       "341"
      ]
     },
     "execution_count": 495,
     "metadata": {},
     "output_type": "execute_result"
    }
   ],
   "source": [
    "len(set(ids_list))"
   ]
  },
  {
   "cell_type": "markdown",
   "id": "3d8bddf2-b67e-408d-a8ee-ac1a4d19973c",
   "metadata": {
    "heading_collapsed": "true",
    "tags": []
   },
   "source": [
    "## get infos for each offer_id"
   ]
  },
  {
   "cell_type": "code",
   "execution_count": 2,
   "id": "9b407782-2e53-40b2-a98e-60888d48b138",
   "metadata": {},
   "outputs": [
    {
     "ename": "NameError",
     "evalue": "name 'ids_list' is not defined",
     "output_type": "error",
     "traceback": [
      "\u001b[0;31m---------------------------------------------------------------------------\u001b[0m",
      "\u001b[0;31mNameError\u001b[0m                                 Traceback (most recent call last)",
      "\u001b[0;32m<ipython-input-2-da945ac571c1>\u001b[0m in \u001b[0;36m<module>\u001b[0;34m\u001b[0m\n\u001b[1;32m      9\u001b[0m \u001b[0mnow\u001b[0m \u001b[0;34m=\u001b[0m \u001b[0mdatetime\u001b[0m\u001b[0;34m.\u001b[0m\u001b[0mnow\u001b[0m\u001b[0;34m(\u001b[0m\u001b[0;34m)\u001b[0m\u001b[0;34m.\u001b[0m\u001b[0mstrftime\u001b[0m\u001b[0;34m(\u001b[0m\u001b[0;34m'%Y-%m-%d-%H:%M:%S'\u001b[0m\u001b[0;34m)\u001b[0m\u001b[0;34m\u001b[0m\u001b[0;34m\u001b[0m\u001b[0m\n\u001b[1;32m     10\u001b[0m \u001b[0;34m\u001b[0m\u001b[0m\n\u001b[0;32m---> 11\u001b[0;31m \u001b[0;32mfor\u001b[0m \u001b[0mId\u001b[0m \u001b[0;32min\u001b[0m \u001b[0mset\u001b[0m\u001b[0;34m(\u001b[0m\u001b[0mids_list\u001b[0m\u001b[0;34m)\u001b[0m\u001b[0;34m:\u001b[0m\u001b[0;34m\u001b[0m\u001b[0;34m\u001b[0m\u001b[0m\n\u001b[0m\u001b[1;32m     12\u001b[0m \u001b[0;34m\u001b[0m\u001b[0m\n\u001b[1;32m     13\u001b[0m     \u001b[0murl\u001b[0m \u001b[0;34m=\u001b[0m \u001b[0;34mf\"https://www.immonet.de/angebot/{Id}?drop=sel&related=false&product=standard\"\u001b[0m\u001b[0;34m\u001b[0m\u001b[0;34m\u001b[0m\u001b[0m\n",
      "\u001b[0;31mNameError\u001b[0m: name 'ids_list' is not defined"
     ]
    }
   ],
   "source": [
    "'''\n",
    "Here we will get the infos from the info panels for each offer.\n",
    "'''\n",
    "# City code\n",
    "city_code = \"100207\"\n",
    "city = 'Dusseldorf'\n",
    "\n",
    "infos_list = []\n",
    "now = datetime.now().strftime('%Y-%m-%d-%H:%M:%S')\n",
    "\n",
    "for Id in set(ids_list):\n",
    "\n",
    "    url = f\"https://www.immonet.de/angebot/{Id}?drop=sel&related=false&product=standard\"\n",
    "    headers = {'User-Agent': 'Mozilla/5.0 (Macintosh; Intel Mac OS X 10_11_5) AppleWebKit/537.36 (KHTML, like Gecko) Chrome/50.0.2661.102 Safari/537.36'}\n",
    "    page = requests.get(url, headers=headers)\n",
    "    soup = BeautifulSoup(page.text, \"html.parser\")\n",
    "    \n",
    "    panels_infos = soup.findAll('div', class_='row box-50')\n",
    "    # get all infos about each offer (all infos are mixed)\n",
    "    \n",
    "    offer_infos = []\n",
    "    for panel in panels_infos:\n",
    "        offer_infos.append(panel.text.replace('\\n', '').replace('\\t', '-'))\n",
    "    \n",
    "    infos_list.append({'offer_id': Id, 'datetime': now, 'city': city, 'city_code': city_code, 'infos': offer_infos})\n",
    "    \n",
    "    if len(offer_infos) == 0:\n",
    "        print(Id, ' - ERROR')    "
   ]
  },
  {
   "cell_type": "code",
   "execution_count": 498,
   "id": "7818fcb3-089d-4a30-a560-c115a6fbc24d",
   "metadata": {},
   "outputs": [],
   "source": [
    "df_raw = pd.DataFrame(infos_list)"
   ]
  },
  {
   "cell_type": "code",
   "execution_count": 499,
   "id": "d728d5df-2e42-4970-b0a7-c56b5e11e164",
   "metadata": {},
   "outputs": [
    {
     "data": {
      "text/html": [
       "<div>\n",
       "<style scoped>\n",
       "    .dataframe tbody tr th:only-of-type {\n",
       "        vertical-align: middle;\n",
       "    }\n",
       "\n",
       "    .dataframe tbody tr th {\n",
       "        vertical-align: top;\n",
       "    }\n",
       "\n",
       "    .dataframe thead th {\n",
       "        text-align: right;\n",
       "    }\n",
       "</style>\n",
       "<table border=\"1\" class=\"dataframe\">\n",
       "  <thead>\n",
       "    <tr style=\"text-align: right;\">\n",
       "      <th></th>\n",
       "      <th>offer_id</th>\n",
       "      <th>datetime</th>\n",
       "      <th>infos</th>\n",
       "    </tr>\n",
       "  </thead>\n",
       "  <tbody>\n",
       "    <tr>\n",
       "      <th>0</th>\n",
       "      <td>45383090</td>\n",
       "      <td>20211003-191642</td>\n",
       "      <td>[-----WOHNEN UNKOMPLIZIERT - EIN PREIS ALLES D...</td>\n",
       "    </tr>\n",
       "    <tr>\n",
       "      <th>1</th>\n",
       "      <td>45155366</td>\n",
       "      <td>20211003-191642</td>\n",
       "      <td>[-----Helle 2 Zimmer Wohnung mit Dachterrasse-...</td>\n",
       "    </tr>\n",
       "    <tr>\n",
       "      <th>2</th>\n",
       "      <td>45013603</td>\n",
       "      <td>20211003-191642</td>\n",
       "      <td>[-----Voll möbliertes Apartment mit hotelähnli...</td>\n",
       "    </tr>\n",
       "    <tr>\n",
       "      <th>3</th>\n",
       "      <td>45299018</td>\n",
       "      <td>20211003-191642</td>\n",
       "      <td>[-----Düsseldorf-Bilk! Ruhige Seitenstraße, 2 ...</td>\n",
       "    </tr>\n",
       "    <tr>\n",
       "      <th>4</th>\n",
       "      <td>45382436</td>\n",
       "      <td>20211003-191642</td>\n",
       "      <td>[-----Helle 3-Zimmerwohnung mit Balkon, Wannen...</td>\n",
       "    </tr>\n",
       "  </tbody>\n",
       "</table>\n",
       "</div>"
      ],
      "text/plain": [
       "   offer_id         datetime  \\\n",
       "0  45383090  20211003-191642   \n",
       "1  45155366  20211003-191642   \n",
       "2  45013603  20211003-191642   \n",
       "3  45299018  20211003-191642   \n",
       "4  45382436  20211003-191642   \n",
       "\n",
       "                                               infos  \n",
       "0  [-----WOHNEN UNKOMPLIZIERT - EIN PREIS ALLES D...  \n",
       "1  [-----Helle 2 Zimmer Wohnung mit Dachterrasse-...  \n",
       "2  [-----Voll möbliertes Apartment mit hotelähnli...  \n",
       "3  [-----Düsseldorf-Bilk! Ruhige Seitenstraße, 2 ...  \n",
       "4  [-----Helle 3-Zimmerwohnung mit Balkon, Wannen...  "
      ]
     },
     "execution_count": 499,
     "metadata": {},
     "output_type": "execute_result"
    }
   ],
   "source": [
    "df_raw.head()"
   ]
  },
  {
   "cell_type": "code",
   "execution_count": 481,
   "id": "ee646a7b-846d-463c-bb88-48c00d5ad010",
   "metadata": {},
   "outputs": [
    {
     "data": {
      "text/plain": [
       "['-----Unterrath: Helles Appartement am Kartäuserpark mit Einbauküche, modernisiertem Tageslichtbad und Balkon----------------Apartment ------mieten-------------------in Düsseldorf-----------------Kartäuserstrasse   . .------------40468\\xa0------Düsseldorf------------Auf Karte anzeigenDieses Angebot teilenDieses Angebot teilen',\n",
       " 'Meine Orte',\n",
       " 'Preise & Kosten----------Miete zzgl. NK----------525.0\\xa0€---------------------Miete inkl. NK----------625.0\\xa0€---------------------Nebenkosten----------100.0\\xa0€-----------Heizkosten in Nebenkosten enthalten:Ja----------Kaution/ Genossenschaftsanteile----------1575.0\\xa0€-----------',\n",
       " 'Größe & Zustand-----------------------Zimmer--------------------1.0------Wohnfläche ca.------40.0\\xa0m²Zustand-------Teil- oder vollsaniert------Baujahr1968Verfügbar ab--------------sofort-------------',\n",
       " 'EnergieEnergieeffizienzklasseKlasse F----------------------------Endenergieverbrauch--------------------------188.0 kWh/(m²*a)--------Energieausweis------------------Energieverbrauchsausweis--------------------------HeizungsartZentralheizungBefeuerungsart-----------------------------Öl-----------------Baujahr (laut Energieausweis)1967',\n",
       " 'Ausstattung-----------Küche: Einbauküche (EBK)---------------------Bad: Bad mit Fenster---------------------Balkon-------------------Garten/-anteil/-mitbenutzung-------------------Etage: 1-------------------Keller---------------Das angebotene Appartement verfügt über einen Wohn-/Schlafraum inkl. einer Kochnische zzgl. Diele, Tageslichtbad und Balkon. Ein separater, abgeschlossener Abstellraum als Nutzfläche ist im Kellergeschoss vorhanden. Der Wohn-/Schlafraum sowie die Diele sind jeweils mit hellem Laminatboden ausgelegt. Im Mietpreis bereits enthalten ist eine neue und vollwertige Einbauküche, welche bereits in die Kochnische eingebaut worden ist. Der Kochbereich ist mit schieferähnlichen Fliesen gefliest. Das Tageslichtbad ist modernisiert und verfügt über eine Badewanne, sowie weiße Fliesen an den Wänden und schieferähnlichen Fliesen auf dem Boden. Der Balkon ist nach Westen ausgerichtet, so dass Sie den Nachmittag und Abend in der Sonne geniessen können.Das Appartement ist bei Übergabe sofort bezugsfähig.Die genaue Aufteilung des Appartements entnehmen Sie bitte dem beigefügten pdf-Plan.',\n",
       " 'ObjektbeschreibungAngeboten wird ein optimal geschnittenes Appartement, welches im Obergeschoss eines 6-Parteien Hauses gelegen ist. Zu dem Appartement gehört ein separater, abgeschlossener Abstellraum, welcher sich im Kellergeschoss des Hauses befindet. Hinter dem Haus liegt ein Garten, welcher von allen Mietern genutzt werden darf. Außerdem befindet sich in dem Objekt noch ein gemeinschaftlicher Wasch- und Trockenraum. Hier steht sowohl eine Waschmaschine, als auch ein Wäschetrockner für die Wäschepflege zur Verfügung. ',\n",
       " 'LageDie Wohnung liegt im beliebten Stadtteil Unterrath im Norden von Düsseldorf. Die Kartäuserstrasse ist eine ruhige Seitenstrasse und endet direkt im sehr beliebten Kartäuser-Park, welcher entlang des Kittelbaches gelegen ist. Naturliebhaber und Sportive werden sich hier sicher wohl fühlen. Kindergärten und Schulen sind in direkter Nähe, die Innenstadt ist innerhalb von 8-10 Minuten mit dem PKW zu erreichen. Der Autobahnzubringer (A44/A52/A57) liegt mit dem PKW ca. 3 Minuten entfernt, ähnliches gilt für den Flughafen (5 Minuten). Trotz der Flughafennähe wird die Kartäuserstrasse vom Fluglärm verschont.',\n",
       " 'SonstigesAlle Angaben wurde sorgfältig und vollständig gemacht, dennoch können Fehler nicht ausgeschlossen werden. Die Angaben in diesem Exposé erfolgen daher ohne jede Gewähr. Maßgeblich sind die im Mietvertrag geschlossenen Vereinbarungen.Die Wohnung wird privat vermietet und wir bitten, von Makleranfragen Abstand zu nehmen. Auch ist nicht beabsichtigt, die Immobilie zu verkaufen. Derartige Anfragen bleiben unbeantwortet.Besichtigungen:Aufgrund der Corona-Pandemie können derzeit keine offenen Besichtigungen stattfinden, daher werden nur Einzeltermine angeboten.Bitte geben Sie für die erste Kontaktaufnahme eine Telefonnummer an. Anfragen ohne Telefonnummer können leider nicht bearbeitet werden.Stichworte:Anzahl Balkone: 1',\n",
       " 'Immonet-Nr.: 45540797Anbieter-Objekt-ID: AAUWL3B_2R8X94H-1938659',\n",
       " '  Tipps der Immonet Redaktion        Tipps zur Nebenkostenabrechnung Die Nebenkostenabrechnung sorgt häufig für Unklarheiten zwischen Mieter und Vermieter. Was muss aufgeführt werden und was nicht?           Möbel einlagern – Stauraum auf Zeit Stauraum für Möbel, Akten und Umzugskartons: So lagern Sie Ihre Möbel richtig ein. Tipps für Selfstorage-Lösungen in Ihrer Nähe finden Sie hier.           Wohnungsbesichtigung: Das sollten Sie beachten Nach langer Suche haben Sie ihre Traumwohnung. Jetzt steht die Besichtigung an. Worauf man dabei achten sollte, hat Immonet für Sie zusammengestellt.            Überzeugende Bewerbungsmappe erstellen Immer öfter verlangen Vermieter von Interessenten eine Bewerbung. Erstellen Sie mit unserer Hilfe eine überzeugende Bewerbungsmappe –\\xa0kostenlos.      ',\n",
       " 'Anbieter---------Für eine Kontaktaufnahme nutzen Sie bitte das Kontaktformular!--------Anbieter kontaktieren']"
      ]
     },
     "execution_count": 481,
     "metadata": {},
     "output_type": "execute_result"
    }
   ],
   "source": [
    "df_raw['infos'][0]"
   ]
  },
  {
   "cell_type": "markdown",
   "id": "13559f86-bb48-41ee-b427-5c70b4c1e85e",
   "metadata": {
    "heading_collapsed": "true",
    "tags": []
   },
   "source": [
    "## Get offers for houses too"
   ]
  },
  {
   "cell_type": "code",
   "execution_count": 22,
   "id": "9bc9b902-1e41-4508-9429-2a2284fdef2e",
   "metadata": {},
   "outputs": [],
   "source": [
    "# get all offers quantity - haus und wohnung\n",
    "\n",
    "total_offers = 0\n",
    "\n",
    "for i in range(1,3):\n",
    "    url = f'https://www.immonet.de/immobiliensuche/sel.do?parentcat={i}&objecttype=1&pageoffset=378&listsize=27&suchart=1&sortby=0&city=100207&marketingtype=2&page=1'\n",
    "    headers = {'User-Agent': 'Mozilla/5.0 (Macintosh; Intel Mac OS X 10_11_5) AppleWebKit/537.36 (KHTML, like Gecko) Chrome/50.0.2661.102 Safari/537.36'}\n",
    "    page = requests.get(url, headers=headers)\n",
    "    soup = BeautifulSoup(page.text, \"html.parser\")\n",
    "    \n",
    "    # Find number of rent offers.\n",
    "    a = soup.findAll('h1', class_='box-50')[0].get_text()\n",
    "    total_offers += int(re.search('\\d+', a).group())"
   ]
  },
  {
   "cell_type": "code",
   "execution_count": 23,
   "id": "7b090d5f-8526-4db0-9923-304447b386ca",
   "metadata": {},
   "outputs": [],
   "source": [
    "# get all offers ids for haus und wohnung in Dusseldorf\n",
    "\n",
    "offers_list_1page = soup.findAll('div', class_=\"col-xs-12 place-over-understitial sel-bg-gray-lighter\")\n",
    "\n",
    "# Get the number of pages to scrape - rounded to down\n",
    "number_of_pages = math.floor(total_offers / len(offers_list_1page))\n",
    "\n",
    "# City code\n",
    "city_code = \"100207\" # Düsseldorf\n",
    "city = 'Dusseldorf'\n",
    "\n",
    "# List of all ids\n",
    "ids_list = []\n",
    "\n",
    "# wohnung/haus code\n",
    "l_opt = [1, 2]\n",
    "\n",
    "for opt in l_opt:\n",
    "    for page in range(number_of_pages):\n",
    "        url = f\"https://www.immonet.de/immobiliensuche/sel.do?parentcat={opt}&objecttype=1&pageoffset=1&listsize=26&suchart=1&sortby=0&city={city_code}&marketingtype=2&page={page}\"\n",
    "        headers = {'User-Agent': 'Mozilla/5.0 (Macintosh; Intel Mac OS X 10_11_5) AppleWebKit/537.36 (KHTML, like Gecko) Chrome/50.0.2661.102 Safari/537.36'}\n",
    "        page = requests.get(url, headers=headers)\n",
    "        soup = BeautifulSoup(page.text, \"html.parser\")\n",
    "    \n",
    "        offers_list_1page = soup.findAll('div', class_=\"col-xs-12 place-over-understitial sel-bg-gray-lighter\")\n",
    "\n",
    "        for i in range(len(offers_list_1page)):\n",
    "            try:\n",
    "                if opt == 1:\n",
    "                    ids_list.append({ 'offer_id': offers_list_1page[i].find('a')['data-object-id']'city': city, 'city_code': city_code, 'type': 'wohnung'})\n",
    "                if opt == 2:\n",
    "                    ids_list.append({ 'offer_id': offers_list_1page[i].find('a')['data-object-id'], 'city': city, 'city_code': city_code, 'type': 'haus'})\n",
    "            except:\n",
    "                pass\n",
    "            \n",
    "# Create a dataframe with the infos\n",
    "df_ids = pd.DataFrame(ids_list)"
   ]
  },
  {
   "cell_type": "code",
   "execution_count": 29,
   "id": "bd39d144-a6a0-4cc3-8c90-d97afeab329f",
   "metadata": {},
   "outputs": [],
   "source": [
    "'''\n",
    "Here we will get the infos from the info panels for each offer.\n",
    "'''\n",
    "\n",
    "infos_list = []\n",
    "now = datetime.now().strftime('%Y-%m-%d-%H:%M:%S')\n",
    "\n",
    "for Id in set(df_ids['offer_id']):\n",
    "\n",
    "    url = f\"https://www.immonet.de/angebot/{Id}?drop=sel&related=false&product=standard\"\n",
    "    headers = {'User-Agent': 'Mozilla/5.0 (Macintosh; Intel Mac OS X 10_11_5) AppleWebKit/537.36 (KHTML, like Gecko) Chrome/50.0.2661.102 Safari/537.36'}\n",
    "    page = requests.get(url, headers=headers)\n",
    "    soup = BeautifulSoup(page.text, \"html.parser\")\n",
    "    \n",
    "    panels_infos = soup.findAll('div', class_='row box-50')\n",
    "    # get all infos about each offer (all infos are mixed)\n",
    "    \n",
    "    offer_infos = []\n",
    "    for panel in panels_infos:\n",
    "        offer_infos.append(panel.text.replace('\\n', '').replace('\\t', '-'))\n",
    "    \n",
    "    infos_list.append({'offer_id': Id, 'datetime': now, 'city': city, 'city_code': city_code, 'infos': offer_infos})\n",
    "    \n",
    "    if len(offer_infos) == 0:\n",
    "        print(Id, ' - ERROR')   \n",
    "        \n",
    "# create a dataframe\n",
    "df_raw_infos = pd.DataFrame(infos_list)"
   ]
  },
  {
   "cell_type": "code",
   "execution_count": 30,
   "id": "3ebaca4e-e7e2-4323-9d62-8995bccb8e2b",
   "metadata": {},
   "outputs": [],
   "source": [
    "df_raw_infos = pd.DataFrame(infos_list)"
   ]
  },
  {
   "cell_type": "code",
   "execution_count": 32,
   "id": "b75bda03-b73d-493a-a366-8d2a7100bc96",
   "metadata": {},
   "outputs": [
    {
     "data": {
      "text/plain": [
       "(438, 5)"
      ]
     },
     "execution_count": 32,
     "metadata": {},
     "output_type": "execute_result"
    }
   ],
   "source": [
    "df_raw_infos.shape"
   ]
  },
  {
   "cell_type": "code",
   "execution_count": null,
   "id": "4f7a81f7-911c-46ae-8c0c-2bf2353a48f5",
   "metadata": {},
   "outputs": [],
   "source": []
  },
  {
   "cell_type": "markdown",
   "id": "b8e838ba-2d25-448a-9261-646a0c320f87",
   "metadata": {},
   "source": [
    "## Get offers for more cityes"
   ]
  },
  {
   "cell_type": "code",
   "execution_count": 2,
   "id": "9c75af97-d2a1-46d4-bc7c-300500a92110",
   "metadata": {},
   "outputs": [],
   "source": [
    "# get main German cities codes\n",
    "\n",
    "cities_dict = {\n",
    "    'Dusseldorf': 100207,\n",
    "    'Berlin': 87372,\n",
    "    'Essen': 102157,\n",
    "    'Munchen': 121673,\n",
    "    'Koln': 113144,\n",
    "    'Stuttgart': 143262,\n",
    "    'Dresden': 100051,\n",
    "    'Hannover': 109489,\n",
    "    'Dortmund': 99990,\n",
    "    'Frankfurt am Main': 105043,\n",
    "    'Hamburg': 109447\n",
    "}\n",
    "now = datetime.now().strftime('%Y-%m-%d %H:%M:%S')\n",
    "now2 = datetime.now().strftime('%Y_%m_%d_%H_%M_%S')\n",
    "# get all offers quantity - haus und wohnung\n",
    "\n",
    "cities_offers = []\n",
    "\n",
    "for city, code in cities_dict.items():\n",
    "    \n",
    "    total_offers = 0\n",
    "    \n",
    "    for i in range(1,3):\n",
    "        url = f'https://www.immonet.de/immobiliensuche/sel.do?parentcat={i}&objecttype=1&pageoffset=378&listsize=27&suchart=1&sortby=0&city={code}&marketingtype=2&page=1'\n",
    "        headers = {'User-Agent': 'Mozilla/5.0 (Macintosh; Intel Mac OS X 10_11_5) AppleWebKit/537.36 (KHTML, like Gecko) Chrome/50.0.2661.102 Safari/537.36'}\n",
    "        page = requests.get(url, headers=headers)\n",
    "        soup = BeautifulSoup(page.text, \"html.parser\")\n",
    "        \n",
    "        # Find number of rent offers.\n",
    "        a = soup.findAll('h1', class_='box-50')[0].get_text()\n",
    "        total_offers += int(re.search('\\d+', a).group())\n",
    "    \n",
    "    cities_offers.append({'extraction_datetime': now, 'city': city, 'city_code': code, 'offers': total_offers})\n",
    "    \n",
    "offers_by_page = len(soup.findAll('div', class_=\"col-xs-12 place-over-understitial sel-bg-gray-lighter\"))    \n",
    "df_offers = pd.DataFrame(cities_offers)\n",
    "df_offers.to_csv(f'../data/total_offers_by_city_{now2}.csv', index=False)"
   ]
  },
  {
   "cell_type": "code",
   "execution_count": 3,
   "id": "570b4ba6-7c1f-423a-9dac-dc30eeb9daf7",
   "metadata": {},
   "outputs": [
    {
     "data": {
      "text/html": [
       "<div>\n",
       "<style scoped>\n",
       "    .dataframe tbody tr th:only-of-type {\n",
       "        vertical-align: middle;\n",
       "    }\n",
       "\n",
       "    .dataframe tbody tr th {\n",
       "        vertical-align: top;\n",
       "    }\n",
       "\n",
       "    .dataframe thead th {\n",
       "        text-align: right;\n",
       "    }\n",
       "</style>\n",
       "<table border=\"1\" class=\"dataframe\">\n",
       "  <thead>\n",
       "    <tr style=\"text-align: right;\">\n",
       "      <th></th>\n",
       "      <th>extraction_datetime</th>\n",
       "      <th>city</th>\n",
       "      <th>city_code</th>\n",
       "      <th>offers</th>\n",
       "    </tr>\n",
       "  </thead>\n",
       "  <tbody>\n",
       "    <tr>\n",
       "      <th>0</th>\n",
       "      <td>2021-10-12 11:10:28</td>\n",
       "      <td>Dusseldorf</td>\n",
       "      <td>100207</td>\n",
       "      <td>409</td>\n",
       "    </tr>\n",
       "    <tr>\n",
       "      <th>1</th>\n",
       "      <td>2021-10-12 11:10:28</td>\n",
       "      <td>Berlin</td>\n",
       "      <td>87372</td>\n",
       "      <td>498</td>\n",
       "    </tr>\n",
       "    <tr>\n",
       "      <th>2</th>\n",
       "      <td>2021-10-12 11:10:28</td>\n",
       "      <td>Essen</td>\n",
       "      <td>102157</td>\n",
       "      <td>570</td>\n",
       "    </tr>\n",
       "    <tr>\n",
       "      <th>3</th>\n",
       "      <td>2021-10-12 11:10:28</td>\n",
       "      <td>Munchen</td>\n",
       "      <td>121673</td>\n",
       "      <td>804</td>\n",
       "    </tr>\n",
       "    <tr>\n",
       "      <th>4</th>\n",
       "      <td>2021-10-12 11:10:28</td>\n",
       "      <td>Koln</td>\n",
       "      <td>113144</td>\n",
       "      <td>198</td>\n",
       "    </tr>\n",
       "  </tbody>\n",
       "</table>\n",
       "</div>"
      ],
      "text/plain": [
       "   extraction_datetime        city  city_code  offers\n",
       "0  2021-10-12 11:10:28  Dusseldorf     100207     409\n",
       "1  2021-10-12 11:10:28      Berlin      87372     498\n",
       "2  2021-10-12 11:10:28       Essen     102157     570\n",
       "3  2021-10-12 11:10:28     Munchen     121673     804\n",
       "4  2021-10-12 11:10:28        Koln     113144     198"
      ]
     },
     "execution_count": 3,
     "metadata": {},
     "output_type": "execute_result"
    }
   ],
   "source": [
    "df_offers.head()"
   ]
  },
  {
   "cell_type": "code",
   "execution_count": 67,
   "id": "aa329097-cd49-4939-9412-f5a1a2be6dd2",
   "metadata": {},
   "outputs": [
    {
     "data": {
      "text/plain": [
       "(11, 4)"
      ]
     },
     "execution_count": 67,
     "metadata": {},
     "output_type": "execute_result"
    }
   ],
   "source": [
    "df_offers.shape"
   ]
  },
  {
   "cell_type": "code",
   "execution_count": 4,
   "id": "fc929b5f-829e-43a5-bbf2-9c1c8504e5ec",
   "metadata": {},
   "outputs": [],
   "source": [
    "# List of all ids\n",
    "ids_list = []\n",
    "offers_list_1page = soup.findAll('div', class_=\"col-xs-12 place-over-understitial sel-bg-gray-lighter\")\n",
    "\n",
    "now = datetime.now().strftime('%Y-%m-%d %H:%M:%S')\n",
    "now2 = datetime.now().strftime('%Y_%m_%d_%H_%M_%S')\n",
    "\n",
    "for c in range(len(df_offers)):\n",
    "    city = df_offers.loc[c]['city']\n",
    "    city_code = df_offers.loc[c]['city_code']\n",
    "    offers = df_offers.loc[c]['offers']\n",
    "    \n",
    "    # get all offers ids for haus und wohnung in each city\n",
    "    \n",
    "\n",
    "    # Get the number of pages to scrape - rounded to down\n",
    "    number_of_pages = math.floor(offers / offers_by_page)\n",
    "    \n",
    "    # wohnung/haus code\n",
    "    l_opt = [1, 2]\n",
    "\n",
    "    for opt in l_opt:\n",
    "        for page in range(number_of_pages):\n",
    "            url = f\"https://www.immonet.de/immobiliensuche/sel.do?parentcat={opt}&objecttype=1&pageoffset=1&listsize=26&suchart=1&sortby=0&city={city_code}&marketingtype=2&page={page}\"\n",
    "            headers = {'User-Agent': 'Mozilla/5.0 (Macintosh; Intel Mac OS X 10_11_5) AppleWebKit/537.36 (KHTML, like Gecko) Chrome/50.0.2661.102 Safari/537.36'}\n",
    "            page = requests.get(url, headers=headers)\n",
    "            soup = BeautifulSoup(page.text, \"html.parser\")\n",
    "\n",
    "            offers_list_1page = soup.findAll('div', class_=\"col-xs-12 place-over-understitial sel-bg-gray-lighter\")\n",
    "\n",
    "            for i in range(len(offers_list_1page)):\n",
    "                try:\n",
    "                    if opt == 1:\n",
    "                        ids_list.append({'extraction_datetime': now, 'offer_id': offers_list_1page[i].find('a')['data-object-id'], 'city': city, 'city_code': city_code, 'type': 'wohnung'})\n",
    "                    if opt == 2:\n",
    "                        ids_list.append({'extraction_datetime': now, 'offer_id': offers_list_1page[i].find('a')['data-object-id'], 'city': city, 'city_code': city_code, 'type': 'haus'})\n",
    "                except:\n",
    "                    pass\n",
    "            sleep(randint(1, 2)) \n",
    "    sleep(randint(1, 5))          \n",
    "            \n",
    "# Create a dataframe with the infos\n",
    "df_ids = pd.DataFrame(ids_list)\n",
    "df_ids.drop_duplicates(subset='offer_id', inplace=True)\n",
    "\n",
    "# save as csv file\n",
    "output_dir = '../data/'\n",
    "filename = f'immonet_de_{now2}.csv'\n",
    "df_ids.to_csv(os.path.join(output_dir, filename), index=False)"
   ]
  },
  {
   "cell_type": "code",
   "execution_count": 5,
   "id": "af1380bc-f4c5-445c-b116-630d4764dfd0",
   "metadata": {},
   "outputs": [
    {
     "data": {
      "text/html": [
       "<div>\n",
       "<style scoped>\n",
       "    .dataframe tbody tr th:only-of-type {\n",
       "        vertical-align: middle;\n",
       "    }\n",
       "\n",
       "    .dataframe tbody tr th {\n",
       "        vertical-align: top;\n",
       "    }\n",
       "\n",
       "    .dataframe thead th {\n",
       "        text-align: right;\n",
       "    }\n",
       "</style>\n",
       "<table border=\"1\" class=\"dataframe\">\n",
       "  <thead>\n",
       "    <tr style=\"text-align: right;\">\n",
       "      <th></th>\n",
       "      <th>extraction_datetime</th>\n",
       "      <th>offer_id</th>\n",
       "      <th>city</th>\n",
       "      <th>city_code</th>\n",
       "      <th>type</th>\n",
       "    </tr>\n",
       "  </thead>\n",
       "  <tbody>\n",
       "    <tr>\n",
       "      <th>0</th>\n",
       "      <td>2021-10-12 11:10:55</td>\n",
       "      <td>45627685</td>\n",
       "      <td>Dusseldorf</td>\n",
       "      <td>100207</td>\n",
       "      <td>wohnung</td>\n",
       "    </tr>\n",
       "    <tr>\n",
       "      <th>1</th>\n",
       "      <td>2021-10-12 11:10:55</td>\n",
       "      <td>45366691</td>\n",
       "      <td>Dusseldorf</td>\n",
       "      <td>100207</td>\n",
       "      <td>wohnung</td>\n",
       "    </tr>\n",
       "    <tr>\n",
       "      <th>2</th>\n",
       "      <td>2021-10-12 11:10:55</td>\n",
       "      <td>45578967</td>\n",
       "      <td>Dusseldorf</td>\n",
       "      <td>100207</td>\n",
       "      <td>wohnung</td>\n",
       "    </tr>\n",
       "    <tr>\n",
       "      <th>3</th>\n",
       "      <td>2021-10-12 11:10:55</td>\n",
       "      <td>45475784</td>\n",
       "      <td>Dusseldorf</td>\n",
       "      <td>100207</td>\n",
       "      <td>wohnung</td>\n",
       "    </tr>\n",
       "    <tr>\n",
       "      <th>4</th>\n",
       "      <td>2021-10-12 11:10:55</td>\n",
       "      <td>45466649</td>\n",
       "      <td>Dusseldorf</td>\n",
       "      <td>100207</td>\n",
       "      <td>wohnung</td>\n",
       "    </tr>\n",
       "  </tbody>\n",
       "</table>\n",
       "</div>"
      ],
      "text/plain": [
       "   extraction_datetime  offer_id        city  city_code     type\n",
       "0  2021-10-12 11:10:55  45627685  Dusseldorf     100207  wohnung\n",
       "1  2021-10-12 11:10:55  45366691  Dusseldorf     100207  wohnung\n",
       "2  2021-10-12 11:10:55  45578967  Dusseldorf     100207  wohnung\n",
       "3  2021-10-12 11:10:55  45475784  Dusseldorf     100207  wohnung\n",
       "4  2021-10-12 11:10:55  45466649  Dusseldorf     100207  wohnung"
      ]
     },
     "execution_count": 5,
     "metadata": {},
     "output_type": "execute_result"
    }
   ],
   "source": [
    "df_ids.head()"
   ]
  },
  {
   "cell_type": "code",
   "execution_count": 7,
   "id": "27a8ff05-5e96-4566-b71f-fc9baa2dcb95",
   "metadata": {},
   "outputs": [
    {
     "data": {
      "text/plain": [
       "(7375, 5)"
      ]
     },
     "execution_count": 7,
     "metadata": {},
     "output_type": "execute_result"
    }
   ],
   "source": [
    "df_ids.shape"
   ]
  },
  {
   "cell_type": "code",
   "execution_count": 41,
   "id": "90d370b8-fec1-4140-9b22-948d40eeb688",
   "metadata": {},
   "outputs": [],
   "source": [
    "# get all infor for all founded offers\n",
    "\n",
    "'''\n",
    "Here we will get the infos from the info panels for each offer.\n",
    "'''\n",
    "count = 0\n",
    "#infos_list = []\n",
    "#datetime_list = []\n",
    "now = datetime.now().strftime('%Y-%m-%d-%H:%M:%S')\n",
    "now2 = datetime.now().strftime('%Y_%m_%d')\n",
    "\n",
    "for Id in set(df_ids['offer_id']):\n",
    "\n",
    "    url = f\"https://www.immonet.de/angebot/{Id}?drop=sel&related=false&product=standard\"\n",
    "    headers = {'User-Agent': 'Mozilla/5.0 (Macintosh; Intel Mac OS X 10_11_5) AppleWebKit/537.36 (KHTML, like Gecko) Chrome/50.0.2661.102 Safari/537.36'}\n",
    "    page = requests.get(url, headers=headers)\n",
    "    soup = BeautifulSoup(page.text, \"html.parser\")\n",
    "    \n",
    "    panels_infos = soup.findAll('div', class_='row box-50')\n",
    "    # get all infos about each offer (all infos are mixed)\n",
    "    \n",
    "    offer_infos = []\n",
    "    for panel in panels_infos:\n",
    "        text = panel.text.replace('\\n', '').replace('\\t', '-')\n",
    "        offer_infos.append(text)\n",
    "        \n",
    "    \n",
    "    \n",
    "    infos_list.append({'offer_id': Id,\n",
    "                       'extraction_date': now,\n",
    "                       'city': df_ids['city'][count],\n",
    "                       'city_code': df_ids['city_code'][count],\n",
    "                       'offer_type': df_ids['type'][count],\n",
    "                       'offer_infos': offer_infos})\n",
    "    #print(count)\n",
    "    count += 1\n",
    "    \n",
    "    #if len(offer_infos) != 0:\n",
    "    #    datetime_list.append(datetime.now().strftime('%Y-%m-%d-%H:%M:%S'))\n",
    "    #    infos_list.append(offer_infos)\n",
    "    #else:\n",
    "    #    infos_list.append(np.nan)\n",
    "    #    print('ERROR')\n",
    "\n",
    "df_infos = pd.DataFrame(infos_list)\n",
    "df_infos.drop_duplicates(subset='offer_id', inplace=True)\n",
    "df_infos.to_csv(f'../data/df_infos_{now2}.csv', index=False)\n",
    "#df_infos = df_ids.copy()\n",
    "#df_infos['scrapy_time'] = datetime_list\n",
    "#df_infos['infos'] = infos_list"
   ]
  },
  {
   "cell_type": "code",
   "execution_count": 66,
   "id": "59d8c51d-e050-4162-a739-f4fa861f56a6",
   "metadata": {},
   "outputs": [
    {
     "data": {
      "text/html": [
       "<div>\n",
       "<style scoped>\n",
       "    .dataframe tbody tr th:only-of-type {\n",
       "        vertical-align: middle;\n",
       "    }\n",
       "\n",
       "    .dataframe tbody tr th {\n",
       "        vertical-align: top;\n",
       "    }\n",
       "\n",
       "    .dataframe thead th {\n",
       "        text-align: right;\n",
       "    }\n",
       "</style>\n",
       "<table border=\"1\" class=\"dataframe\">\n",
       "  <thead>\n",
       "    <tr style=\"text-align: right;\">\n",
       "      <th></th>\n",
       "      <th>offer_id</th>\n",
       "      <th>extraction_date</th>\n",
       "      <th>city</th>\n",
       "      <th>city_code</th>\n",
       "      <th>offer_type</th>\n",
       "      <th>offer_infos</th>\n",
       "    </tr>\n",
       "  </thead>\n",
       "  <tbody>\n",
       "    <tr>\n",
       "      <th>0</th>\n",
       "      <td>44782312</td>\n",
       "      <td>2021-10-12 11:10:55</td>\n",
       "      <td>Dusseldorf</td>\n",
       "      <td>100207</td>\n",
       "      <td>wohnung</td>\n",
       "      <td>['-----Neubau-Erstbezug: Elegante 3-Zimmer-Woh...</td>\n",
       "    </tr>\n",
       "    <tr>\n",
       "      <th>1</th>\n",
       "      <td>45521517</td>\n",
       "      <td>2021-10-12 11:10:55</td>\n",
       "      <td>Dusseldorf</td>\n",
       "      <td>100207</td>\n",
       "      <td>wohnung</td>\n",
       "      <td>['-----möblierte Terrassenwohnung mit Gartennu...</td>\n",
       "    </tr>\n",
       "    <tr>\n",
       "      <th>2</th>\n",
       "      <td>45556158</td>\n",
       "      <td>2021-10-12 11:10:55</td>\n",
       "      <td>Dusseldorf</td>\n",
       "      <td>100207</td>\n",
       "      <td>wohnung</td>\n",
       "      <td>['-----Große, helle und sonnige 2-Zimmer Dachg...</td>\n",
       "    </tr>\n",
       "    <tr>\n",
       "      <th>3</th>\n",
       "      <td>45605951</td>\n",
       "      <td>2021-10-12 11:10:55</td>\n",
       "      <td>Dusseldorf</td>\n",
       "      <td>100207</td>\n",
       "      <td>wohnung</td>\n",
       "      <td>['-----Bezugsfertige Etagenwohnung im Dortmund...</td>\n",
       "    </tr>\n",
       "    <tr>\n",
       "      <th>4</th>\n",
       "      <td>42868803</td>\n",
       "      <td>2021-10-12 11:10:55</td>\n",
       "      <td>Dusseldorf</td>\n",
       "      <td>100207</td>\n",
       "      <td>wohnung</td>\n",
       "      <td>['-----Erstbezug - Moderne Wohnungen----------...</td>\n",
       "    </tr>\n",
       "  </tbody>\n",
       "</table>\n",
       "</div>"
      ],
      "text/plain": [
       "   offer_id      extraction_date        city  city_code offer_type  \\\n",
       "0  44782312  2021-10-12 11:10:55  Dusseldorf     100207    wohnung   \n",
       "1  45521517  2021-10-12 11:10:55  Dusseldorf     100207    wohnung   \n",
       "2  45556158  2021-10-12 11:10:55  Dusseldorf     100207    wohnung   \n",
       "3  45605951  2021-10-12 11:10:55  Dusseldorf     100207    wohnung   \n",
       "4  42868803  2021-10-12 11:10:55  Dusseldorf     100207    wohnung   \n",
       "\n",
       "                                         offer_infos  \n",
       "0  ['-----Neubau-Erstbezug: Elegante 3-Zimmer-Woh...  \n",
       "1  ['-----möblierte Terrassenwohnung mit Gartennu...  \n",
       "2  ['-----Große, helle und sonnige 2-Zimmer Dachg...  \n",
       "3  ['-----Bezugsfertige Etagenwohnung im Dortmund...  \n",
       "4  ['-----Erstbezug - Moderne Wohnungen----------...  "
      ]
     },
     "execution_count": 66,
     "metadata": {},
     "output_type": "execute_result"
    }
   ],
   "source": [
    "df_infos.head()"
   ]
  },
  {
   "cell_type": "code",
   "execution_count": 65,
   "id": "305a6b48-f6fa-4980-ae80-d2cd65ff0b2d",
   "metadata": {},
   "outputs": [
    {
     "data": {
      "text/plain": [
       "(6753, 6)"
      ]
     },
     "execution_count": 65,
     "metadata": {},
     "output_type": "execute_result"
    }
   ],
   "source": [
    "df_infos.shape"
   ]
  },
  {
   "cell_type": "code",
   "execution_count": null,
   "id": "fefe2b69-60b0-4491-ad50-c1a681ce18bb",
   "metadata": {},
   "outputs": [],
   "source": []
  }
 ],
 "metadata": {
  "kernelspec": {
   "display_name": "Python 3",
   "language": "python",
   "name": "python3"
  },
  "language_info": {
   "codemirror_mode": {
    "name": "ipython",
    "version": 3
   },
   "file_extension": ".py",
   "mimetype": "text/x-python",
   "name": "python",
   "nbconvert_exporter": "python",
   "pygments_lexer": "ipython3",
   "version": "3.8.8"
  }
 },
 "nbformat": 4,
 "nbformat_minor": 5
}
