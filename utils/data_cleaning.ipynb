{
 "cells": [
  {
   "cell_type": "markdown",
   "id": "fe13263c-a408-44cc-adb0-176f3cdd3a1c",
   "metadata": {},
   "source": [
    "# Tips from GCP training"
   ]
  },
  {
   "cell_type": "code",
   "execution_count": 1,
   "id": "6352b7ce-310b-40a2-ae73-e1f9d156839a",
   "metadata": {},
   "outputs": [],
   "source": [
    "# %%writefile \"path\"/\"script_name\".py - create a script file or other file with the cell content"
   ]
  },
  {
   "cell_type": "code",
   "execution_count": null,
   "id": "7b09c1b9-37a6-4eb5-9a0f-09012e43625a",
   "metadata": {},
   "outputs": [],
   "source": [
    "# %%bash - commnad line in the cell"
   ]
  },
  {
   "cell_type": "code",
   "execution_count": null,
   "id": "518d9247-37ed-4d97-bd82-6c6f5fa9d1b4",
   "metadata": {},
   "outputs": [],
   "source": []
  },
  {
   "cell_type": "code",
   "execution_count": null,
   "id": "a567bb55-f420-4597-bba7-5038c5e17a87",
   "metadata": {},
   "outputs": [],
   "source": []
  },
  {
   "cell_type": "markdown",
   "id": "d9b11211-e21e-4275-b096-5d38d9a24e65",
   "metadata": {},
   "source": [
    "## Imports"
   ]
  },
  {
   "cell_type": "code",
   "execution_count": 2,
   "id": "efca5866-f397-46b9-b3c7-d39807d41de3",
   "metadata": {},
   "outputs": [],
   "source": [
    "import numpy as np\n",
    "import re\n",
    "import pandas as pd\n",
    "from config import config\n",
    "from get_offers_by_city import connect"
   ]
  },
  {
   "cell_type": "markdown",
   "id": "2384aa29-1415-49d1-9911-e0ff44236bd4",
   "metadata": {},
   "source": [
    "## Create Connection to de_rent Database"
   ]
  },
  {
   "cell_type": "code",
   "execution_count": 3,
   "id": "5384ebc4-23bc-4fb8-8d40-5d19d37a599a",
   "metadata": {},
   "outputs": [
    {
     "name": "stdout",
     "output_type": "stream",
     "text": [
      "Connecting to database...\n",
      "Connection successful\n"
     ]
    }
   ],
   "source": [
    "conn = connect(config())"
   ]
  },
  {
   "cell_type": "markdown",
   "id": "5ef40a0a-7698-4da3-a81e-cbd50f50c92c",
   "metadata": {
    "tags": []
   },
   "source": [
    "## Load data from database"
   ]
  },
  {
   "cell_type": "code",
   "execution_count": 4,
   "id": "a0e5af6e-7b5d-4f8e-93b6-cb4ba5cb15ae",
   "metadata": {
    "tags": []
   },
   "outputs": [],
   "source": [
    "query = '''\n",
    "    SELECT * FROM all_offers_infos\n",
    "'''\n",
    "\n",
    "cursor = conn.cursor()\n",
    "cursor.execute(query)\n",
    "result = cursor.fetchall()"
   ]
  },
  {
   "cell_type": "code",
   "execution_count": 6,
   "id": "a1123e4a-806b-4593-91b6-c0c78b45f4fa",
   "metadata": {},
   "outputs": [],
   "source": [
    "df = pd.DataFrame(result, columns=['offer_id', 'extraction_date', 'city', 'city_code', 'offer_type', 'lat_lng', 'offer_infos'])"
   ]
  },
  {
   "cell_type": "code",
   "execution_count": 10,
   "id": "240552bb-02aa-460f-9006-9f2a62783b8a",
   "metadata": {},
   "outputs": [
    {
     "data": {
      "text/plain": [
       "'{\"\",\"\\\\\"area\\\\\":40,\\\\\"mobex\\\\\":true,\\\\\"zip\\\\\":\\\\\"01069\\\\\",\\\\\"objectcat\\\\\":\\\\\"Wohnung\\\\\",\\\\\"pers\\\\\":\\\\\"1342334\\\\\",\\\\\"rooms\\\\\":2,\\\\\"buildyear\\\\\":2021,\\\\\"fed\\\\\":\\\\\"Sachsen\\\\\",\\\\\"city\\\\\":\\\\\"Dresden\\\\\",\\\\\"obcon\\\\\":\\\\\"Erstbezug\\\\\",\\\\\"obcat\\\\\":\\\\\"Etagenwohnung\\\\\",\\\\\"balcn\\\\\":false,\\\\\"pic\\\\\":\\\\\"https://i.immonet.de/41/33/15/741413315_156x88.jpg\\\\\",\\\\\"title\\\\\":\\\\\"Zwischen Elbe und Großem Garten - Neubau 2-Zimmer-Wohnung\\\\\",\\\\\"kitch\\\\\":false,\\\\\"marketingtype\\\\\":\\\\\"Miete\\\\\",\\\\\"bank\\\\\":false,\\\\\"obtyp\\\\\":\\\\\"Wohnen\\\\\",\\\\\"prrng\\\\\":\\\\\"0-500\\\\\",\\\\\"price\\\\\":420,\\\\\"gardn\\\\\":false,\\\\\"state\\\\\":\\\\\"Deutschland\\\\\"\"}'"
      ]
     },
     "execution_count": 10,
     "metadata": {},
     "output_type": "execute_result"
    }
   ],
   "source": [
    "df['offer_infos'][3]"
   ]
  },
  {
   "cell_type": "code",
   "execution_count": 8,
   "id": "dfce3a71-3b70-46fb-905e-94015bfa1933",
   "metadata": {},
   "outputs": [
    {
     "data": {
      "text/plain": [
       "'{\"\",\"\\\\\"area\\\\\":50.35,\\\\\"mobex\\\\\":true,\\\\\"zip\\\\\":\\\\\"01099\\\\\",\\\\\"objectcat\\\\\":\\\\\"Wohnung\\\\\",\\\\\"pers\\\\\":\\\\\"622951\\\\\",\\\\\"rooms\\\\\":2,\\\\\"fed\\\\\":\\\\\"Sachsen\\\\\",\\\\\"city\\\\\":\\\\\"Dresden\\\\\",\\\\\"obcat\\\\\":\\\\\"Wohnung\\\\\",\\\\\"balcn\\\\\":true,\\\\\"pic\\\\\":\\\\\"https://i.immonet.de/53/35/27/739533527_156x104.jpg\\\\\",\\\\\"title\\\\\":\\\\\"Mit schönem Blick vom großzügigem Balkon! Helle Wohnung im Haus mit Aufzug und TG-Stellplatz!\\\\\",\\\\\"kitch\\\\\":false,\\\\\"marketingtype\\\\\":\\\\\"Miete\\\\\",\\\\\"bank\\\\\":false,\\\\\"obtyp\\\\\":\\\\\"Wohnen\\\\\",\\\\\"prrng\\\\\":\\\\\"0-500\\\\\",\\\\\"price\\\\\":430,\\\\\"gardn\\\\\":false,\\\\\"state\\\\\":\\\\\"Deutschland\\\\\"\"}'"
      ]
     },
     "execution_count": 8,
     "metadata": {},
     "output_type": "execute_result"
    }
   ],
   "source": [
    "df['offer_infos'][0]"
   ]
  },
  {
   "cell_type": "markdown",
   "id": "7cb574d9-090c-47e1-913e-fe8625e54215",
   "metadata": {},
   "source": [
    "## Data Cleaning"
   ]
  },
  {
   "cell_type": "markdown",
   "id": "f8281162-7d61-41c7-8fa3-3f578d53335d",
   "metadata": {},
   "source": [
    "### Cleaning one offer"
   ]
  },
  {
   "cell_type": "markdown",
   "id": "f5fa019a-c55c-483f-b284-d4ffd6cdbe3b",
   "metadata": {},
   "source": [
    "#### Lat - Lng"
   ]
  },
  {
   "cell_type": "code",
   "execution_count": 12,
   "id": "a6913d0f-4822-48ef-9266-d7aefef6c0e5",
   "metadata": {},
   "outputs": [
    {
     "data": {
      "text/plain": [
       "'{\"{lat: 51.06671,lng: 13.78576}\"}'"
      ]
     },
     "execution_count": 12,
     "metadata": {},
     "output_type": "execute_result"
    }
   ],
   "source": [
    "# look to the information\n",
    "df['lat_lng'][0]"
   ]
  },
  {
   "cell_type": "code",
   "execution_count": 20,
   "id": "13e5b60b-0ec0-4db6-b8cf-3de4154cb974",
   "metadata": {},
   "outputs": [],
   "source": [
    "# Separate into latitude (lat) and longitude (lng)\n",
    "df['lat'] = df['lat_lng'].apply(lambda x: re.findall('\\d+.\\d+', x)[0])\n",
    "df['lng'] = df['lat_lng'].apply(lambda x: re.findall('\\d+.\\d+', x)[1])"
   ]
  },
  {
   "cell_type": "code",
   "execution_count": 34,
   "id": "32491d52-e773-4d3c-b4b6-38aa5a301ee8",
   "metadata": {},
   "outputs": [],
   "source": [
    "# drop original lat_lng column\n",
    "df.drop(columns='lat_lng', inplace=True)"
   ]
  },
  {
   "cell_type": "markdown",
   "id": "470c1bb1-37bd-4008-805c-4ff447682ac4",
   "metadata": {},
   "source": [
    "#### Separate infos from offer_infos"
   ]
  },
  {
   "cell_type": "code",
   "execution_count": 35,
   "id": "6dad6f8f-5c16-4b18-a0f7-f79f11bf06f8",
   "metadata": {},
   "outputs": [
    {
     "data": {
      "text/html": [
       "<div>\n",
       "<style scoped>\n",
       "    .dataframe tbody tr th:only-of-type {\n",
       "        vertical-align: middle;\n",
       "    }\n",
       "\n",
       "    .dataframe tbody tr th {\n",
       "        vertical-align: top;\n",
       "    }\n",
       "\n",
       "    .dataframe thead th {\n",
       "        text-align: right;\n",
       "    }\n",
       "</style>\n",
       "<table border=\"1\" class=\"dataframe\">\n",
       "  <thead>\n",
       "    <tr style=\"text-align: right;\">\n",
       "      <th></th>\n",
       "      <th>offer_id</th>\n",
       "      <th>extraction_date</th>\n",
       "      <th>city</th>\n",
       "      <th>city_code</th>\n",
       "      <th>offer_type</th>\n",
       "      <th>offer_infos</th>\n",
       "      <th>lat</th>\n",
       "      <th>lng</th>\n",
       "    </tr>\n",
       "  </thead>\n",
       "  <tbody>\n",
       "    <tr>\n",
       "      <th>0</th>\n",
       "      <td>45701120</td>\n",
       "      <td>2021-10-31 08:03:29</td>\n",
       "      <td>Dresden</td>\n",
       "      <td>100051</td>\n",
       "      <td>wohnung</td>\n",
       "      <td>{\"\",\"\\\"area\\\":50.35,\\\"mobex\\\":true,\\\"zip\\\":\\\"0...</td>\n",
       "      <td>51.06671</td>\n",
       "      <td>13.78576</td>\n",
       "    </tr>\n",
       "    <tr>\n",
       "      <th>1</th>\n",
       "      <td>45780995</td>\n",
       "      <td>2021-10-31 08:03:29</td>\n",
       "      <td>Dresden</td>\n",
       "      <td>100051</td>\n",
       "      <td>wohnung</td>\n",
       "      <td>{\"\",\"\\\"area\\\":53,\\\"mobex\\\":true,\\\"zip\\\":\\\"0106...</td>\n",
       "      <td>51.03056</td>\n",
       "      <td>13.72469</td>\n",
       "    </tr>\n",
       "    <tr>\n",
       "      <th>2</th>\n",
       "      <td>45131783</td>\n",
       "      <td>2021-10-31 08:03:29</td>\n",
       "      <td>Dresden</td>\n",
       "      <td>100051</td>\n",
       "      <td>wohnung</td>\n",
       "      <td>{\"\",\"\\\"area\\\":26.5,\\\"mobex\\\":true,\\\"zip\\\":\\\"01...</td>\n",
       "      <td>51.074138696955245</td>\n",
       "      <td>13.740054768070925</td>\n",
       "    </tr>\n",
       "    <tr>\n",
       "      <th>3</th>\n",
       "      <td>45776903</td>\n",
       "      <td>2021-10-31 08:03:29</td>\n",
       "      <td>Dresden</td>\n",
       "      <td>100051</td>\n",
       "      <td>wohnung</td>\n",
       "      <td>{\"\",\"\\\"area\\\":40,\\\"mobex\\\":true,\\\"zip\\\":\\\"0106...</td>\n",
       "      <td>51.04843</td>\n",
       "      <td>13.75065</td>\n",
       "    </tr>\n",
       "    <tr>\n",
       "      <th>4</th>\n",
       "      <td>44552201</td>\n",
       "      <td>2021-10-31 08:03:29</td>\n",
       "      <td>Dresden</td>\n",
       "      <td>100051</td>\n",
       "      <td>wohnung</td>\n",
       "      <td>{\"\",\"\\\"area\\\":80,\\\"mobex\\\":true,\\\"zip\\\":\\\"0115...</td>\n",
       "      <td>51.0442</td>\n",
       "      <td>13.70739</td>\n",
       "    </tr>\n",
       "  </tbody>\n",
       "</table>\n",
       "</div>"
      ],
      "text/plain": [
       "   offer_id      extraction_date     city  city_code offer_type  \\\n",
       "0  45701120  2021-10-31 08:03:29  Dresden     100051    wohnung   \n",
       "1  45780995  2021-10-31 08:03:29  Dresden     100051    wohnung   \n",
       "2  45131783  2021-10-31 08:03:29  Dresden     100051    wohnung   \n",
       "3  45776903  2021-10-31 08:03:29  Dresden     100051    wohnung   \n",
       "4  44552201  2021-10-31 08:03:29  Dresden     100051    wohnung   \n",
       "\n",
       "                                         offer_infos                 lat  \\\n",
       "0  {\"\",\"\\\"area\\\":50.35,\\\"mobex\\\":true,\\\"zip\\\":\\\"0...            51.06671   \n",
       "1  {\"\",\"\\\"area\\\":53,\\\"mobex\\\":true,\\\"zip\\\":\\\"0106...            51.03056   \n",
       "2  {\"\",\"\\\"area\\\":26.5,\\\"mobex\\\":true,\\\"zip\\\":\\\"01...  51.074138696955245   \n",
       "3  {\"\",\"\\\"area\\\":40,\\\"mobex\\\":true,\\\"zip\\\":\\\"0106...            51.04843   \n",
       "4  {\"\",\"\\\"area\\\":80,\\\"mobex\\\":true,\\\"zip\\\":\\\"0115...             51.0442   \n",
       "\n",
       "                  lng  \n",
       "0            13.78576  \n",
       "1            13.72469  \n",
       "2  13.740054768070925  \n",
       "3            13.75065  \n",
       "4            13.70739  "
      ]
     },
     "execution_count": 35,
     "metadata": {},
     "output_type": "execute_result"
    }
   ],
   "source": [
    "df.head()"
   ]
  },
  {
   "cell_type": "code",
   "execution_count": 65,
   "id": "74dde892-a9fb-41d2-a0f6-021acf4064c0",
   "metadata": {},
   "outputs": [],
   "source": [
    "a = df['offer_infos'][0].replace('\\\\', '')"
   ]
  },
  {
   "cell_type": "code",
   "execution_count": 67,
   "id": "f6791c55-b098-4a6e-a94e-8a5f605a70c5",
   "metadata": {},
   "outputs": [],
   "source": [
    "a = a.replace('{', '').replace('}', '')[4:]"
   ]
  },
  {
   "cell_type": "code",
   "execution_count": 71,
   "id": "82c4fdfb-b79f-45ca-9e85-d68d8651c60e",
   "metadata": {},
   "outputs": [],
   "source": [
    "a = a[:-1]"
   ]
  },
  {
   "cell_type": "code",
   "execution_count": 80,
   "id": "ca335932-2fa6-4daa-8c5a-09d2ab433d02",
   "metadata": {},
   "outputs": [],
   "source": [
    "b = a.split(',')"
   ]
  },
  {
   "cell_type": "code",
   "execution_count": 83,
   "id": "22d86c30-a0b8-4544-aa41-2ea1df997dd6",
   "metadata": {},
   "outputs": [
    {
     "data": {
      "text/plain": [
       "['\"area\":50.35',\n",
       " '\"mobex\":true',\n",
       " '\"zip\":\"01099\"',\n",
       " '\"objectcat\":\"Wohnung\"',\n",
       " '\"pers\":\"622951\"',\n",
       " '\"rooms\":2',\n",
       " '\"fed\":\"Sachsen\"',\n",
       " '\"city\":\"Dresden\"',\n",
       " '\"obcat\":\"Wohnung\"',\n",
       " '\"balcn\":true',\n",
       " '\"pic\":\"https://i.immonet.de/53/35/27/739533527_156x104.jpg\"',\n",
       " '\"title\":\"Mit schönem Blick vom großzügigem Balkon! Helle Wohnung im Haus mit Aufzug und TG-Stellplatz!\"',\n",
       " '\"kitch\":false',\n",
       " '\"marketingtype\":\"Miete\"',\n",
       " '\"bank\":false',\n",
       " '\"obtyp\":\"Wohnen\"',\n",
       " '\"prrng\":\"0-500\"',\n",
       " '\"price\":430',\n",
       " '\"gardn\":false',\n",
       " '\"state\":\"Deutschland\"']"
      ]
     },
     "execution_count": 83,
     "metadata": {},
     "output_type": "execute_result"
    }
   ],
   "source": [
    "b"
   ]
  },
  {
   "cell_type": "code",
   "execution_count": 97,
   "id": "5170464d-2aae-4bbf-81b2-625656b99333",
   "metadata": {},
   "outputs": [],
   "source": [
    "c = [i for i in b]"
   ]
  },
  {
   "cell_type": "code",
   "execution_count": 98,
   "id": "39a5982e-e122-420b-9f6a-33a4d060133a",
   "metadata": {},
   "outputs": [
    {
     "data": {
      "text/plain": [
       "['\"area\":50.35',\n",
       " '\"mobex\":true',\n",
       " '\"zip\":\"01099\"',\n",
       " '\"objectcat\":\"Wohnung\"',\n",
       " '\"pers\":\"622951\"',\n",
       " '\"rooms\":2',\n",
       " '\"fed\":\"Sachsen\"',\n",
       " '\"city\":\"Dresden\"',\n",
       " '\"obcat\":\"Wohnung\"',\n",
       " '\"balcn\":true',\n",
       " '\"pic\":\"https://i.immonet.de/53/35/27/739533527_156x104.jpg\"',\n",
       " '\"title\":\"Mit schönem Blick vom großzügigem Balkon! Helle Wohnung im Haus mit Aufzug und TG-Stellplatz!\"',\n",
       " '\"kitch\":false',\n",
       " '\"marketingtype\":\"Miete\"',\n",
       " '\"bank\":false',\n",
       " '\"obtyp\":\"Wohnen\"',\n",
       " '\"prrng\":\"0-500\"',\n",
       " '\"price\":430',\n",
       " '\"gardn\":false',\n",
       " '\"state\":\"Deutschland\"']"
      ]
     },
     "execution_count": 98,
     "metadata": {},
     "output_type": "execute_result"
    }
   ],
   "source": [
    "c"
   ]
  },
  {
   "cell_type": "code",
   "execution_count": null,
   "id": "8dc19e1e-6379-4ade-82e6-44d11298a0fd",
   "metadata": {},
   "outputs": [],
   "source": []
  }
 ],
 "metadata": {
  "kernelspec": {
   "display_name": "Python 3",
   "language": "python",
   "name": "python3"
  },
  "language_info": {
   "codemirror_mode": {
    "name": "ipython",
    "version": 3
   },
   "file_extension": ".py",
   "mimetype": "text/x-python",
   "name": "python",
   "nbconvert_exporter": "python",
   "pygments_lexer": "ipython3",
   "version": "3.8.8"
  }
 },
 "nbformat": 4,
 "nbformat_minor": 5
}
