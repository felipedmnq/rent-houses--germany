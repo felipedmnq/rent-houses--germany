{
 "cells": [
  {
   "cell_type": "markdown",
   "id": "73d221f3-5268-49ea-8ffe-ae8dc680b310",
   "metadata": {},
   "source": [
    "## Connection tests"
   ]
  },
  {
   "cell_type": "code",
   "execution_count": 5,
   "id": "4444343f-d2ee-4e29-8bda-dfe133983c16",
   "metadata": {},
   "outputs": [],
   "source": [
    "import pandas as pd\n",
    "import pandas.io.sql as sqlio\n",
    "import psycopg2\n",
    "from sqlalchemy import create_engine\n",
    "from config import config"
   ]
  },
  {
   "cell_type": "code",
   "execution_count": 38,
   "id": "c8aa2707-249e-4aef-be01-df3e2e9ca66f",
   "metadata": {},
   "outputs": [],
   "source": [
    "# Obtain the configuration parameters\n",
    "conn = psycopg2.connect(**config())\n",
    "# Create a new cursor\n",
    "cur = conn.cursor()"
   ]
  },
  {
   "cell_type": "code",
   "execution_count": 58,
   "id": "3be9d607-b8b8-49ef-8073-62d3c702f9d8",
   "metadata": {},
   "outputs": [],
   "source": [
    "query = '''\n",
    "    SELECT * FROM test;\n",
    "'''"
   ]
  },
  {
   "cell_type": "code",
   "execution_count": 53,
   "id": "3e5e4910-e264-426f-b58a-d128e63ec77e",
   "metadata": {},
   "outputs": [],
   "source": [
    "query2 = '''\n",
    "    INSERT INTO test\n",
    "    VALUES(3, 'Jao');\n",
    "'''"
   ]
  },
  {
   "cell_type": "code",
   "execution_count": 54,
   "id": "77b09b13-805a-4749-a9e1-22494cbff05c",
   "metadata": {},
   "outputs": [],
   "source": [
    "query3 = '''\n",
    "    COMMIT;\n",
    "'''"
   ]
  },
  {
   "cell_type": "code",
   "execution_count": 55,
   "id": "cd6511dd-e4e5-4e59-a9f8-2c233d56ae50",
   "metadata": {},
   "outputs": [],
   "source": [
    "query_list = [query, query2, query3]"
   ]
  },
  {
   "cell_type": "code",
   "execution_count": 56,
   "id": "9f296bd7-e4b4-42a7-b4d6-3f222076c2f2",
   "metadata": {},
   "outputs": [],
   "source": [
    "\n",
    "for q in query_list:\n",
    "    cur.execute(q)"
   ]
  },
  {
   "cell_type": "code",
   "execution_count": 59,
   "id": "13a36cd4-f854-483f-a12d-58032690c9f9",
   "metadata": {},
   "outputs": [],
   "source": [
    "cur.execute(query)"
   ]
  },
  {
   "cell_type": "code",
   "execution_count": 60,
   "id": "0b9ce618-d170-4cc9-b56f-1b7f17dab139",
   "metadata": {},
   "outputs": [
    {
     "name": "stdout",
     "output_type": "stream",
     "text": [
      "[(1, 'Felipe'), (2, 'Gabrielle'), (2, 'Gabrielle'), (3, 'Jao')]\n"
     ]
    }
   ],
   "source": [
    "query_results = cur.fetchall()\n",
    "print(query_results)"
   ]
  },
  {
   "cell_type": "markdown",
   "id": "cf9d4858-905f-4946-97d6-f54e9bb14924",
   "metadata": {},
   "source": [
    "### Tests with dataframes"
   ]
  },
  {
   "cell_type": "markdown",
   "id": "7505ed81-e540-4501-a71e-9f09d0ecea0d",
   "metadata": {
    "tags": []
   },
   "source": [
    "#### offers_qtt_by_city"
   ]
  },
  {
   "cell_type": "code",
   "execution_count": 61,
   "id": "5d12ec91-f112-475d-91ac-7773b4166ea1",
   "metadata": {},
   "outputs": [],
   "source": [
    "df_offers = pd.read_csv('../data/total_offers_by_city_2021_10_12_11_10_28.csv')"
   ]
  },
  {
   "cell_type": "code",
   "execution_count": 62,
   "id": "b96cb25e-806f-4c3c-a59e-826dd3bbf316",
   "metadata": {},
   "outputs": [
    {
     "data": {
      "text/html": [
       "<div>\n",
       "<style scoped>\n",
       "    .dataframe tbody tr th:only-of-type {\n",
       "        vertical-align: middle;\n",
       "    }\n",
       "\n",
       "    .dataframe tbody tr th {\n",
       "        vertical-align: top;\n",
       "    }\n",
       "\n",
       "    .dataframe thead th {\n",
       "        text-align: right;\n",
       "    }\n",
       "</style>\n",
       "<table border=\"1\" class=\"dataframe\">\n",
       "  <thead>\n",
       "    <tr style=\"text-align: right;\">\n",
       "      <th></th>\n",
       "      <th>extraction_datetime</th>\n",
       "      <th>city</th>\n",
       "      <th>city_code</th>\n",
       "      <th>offers</th>\n",
       "    </tr>\n",
       "  </thead>\n",
       "  <tbody>\n",
       "    <tr>\n",
       "      <th>0</th>\n",
       "      <td>2021-10-12 11:10:28</td>\n",
       "      <td>Dusseldorf</td>\n",
       "      <td>100207</td>\n",
       "      <td>409</td>\n",
       "    </tr>\n",
       "  </tbody>\n",
       "</table>\n",
       "</div>"
      ],
      "text/plain": [
       "   extraction_datetime        city  city_code  offers\n",
       "0  2021-10-12 11:10:28  Dusseldorf     100207     409"
      ]
     },
     "execution_count": 62,
     "metadata": {},
     "output_type": "execute_result"
    }
   ],
   "source": [
    "df_offers.head(1)"
   ]
  },
  {
   "cell_type": "code",
   "execution_count": 132,
   "id": "db9ead93-f9bf-4038-99f2-c31993b959ec",
   "metadata": {},
   "outputs": [],
   "source": [
    "table = 'hhhh'\n",
    "cols = ['a', 'b', 'c']\n",
    "\n",
    "query  = f\"INSERT INTO %s(%s) VALUES %%s\" % (table, cols)"
   ]
  },
  {
   "cell_type": "code",
   "execution_count": 133,
   "id": "46bec38d-cd3a-40b3-a8a6-7d6d4cb7772d",
   "metadata": {},
   "outputs": [
    {
     "data": {
      "text/plain": [
       "\"INSERT INTO hhhh(['a', 'b', 'c']) VALUES %s\""
      ]
     },
     "execution_count": 133,
     "metadata": {},
     "output_type": "execute_result"
    }
   ],
   "source": [
    "query"
   ]
  },
  {
   "cell_type": "code",
   "execution_count": 134,
   "id": "3950a313-fb98-4bc7-ae57-e50670fbc000",
   "metadata": {},
   "outputs": [],
   "source": [
    "table = 'hhhh'\n",
    "cols = ['a', 'b', 'c']\n",
    "\n",
    "query  = f\"INSERT INTO {table}({cols}) VALUES %%s\" #% (table, cols)"
   ]
  },
  {
   "cell_type": "code",
   "execution_count": 130,
   "id": "13b4941e-932a-4875-83d7-359287e9e8df",
   "metadata": {},
   "outputs": [
    {
     "data": {
      "text/plain": [
       "\"INSERT INTO hhhh(['a', 'b', 'c']) VALUES %%s\""
      ]
     },
     "execution_count": 130,
     "metadata": {},
     "output_type": "execute_result"
    }
   ],
   "source": [
    "query"
   ]
  },
  {
   "cell_type": "code",
   "execution_count": 118,
   "id": "019e4f1d-b1b8-4bc2-b4de-3cc5eb5e19d9",
   "metadata": {},
   "outputs": [
    {
     "data": {
      "text/plain": [
       "[('2021-10-12 11:10:28', 'Dusseldorf', 100207, 409),\n",
       " ('2021-10-12 11:10:28', 'Berlin', 87372, 498),\n",
       " ('2021-10-12 11:10:28', 'Essen', 102157, 570),\n",
       " ('2021-10-12 11:10:28', 'Munchen', 121673, 804),\n",
       " ('2021-10-12 11:10:28', 'Koln', 113144, 198),\n",
       " ('2021-10-12 11:10:28', 'Stuttgart', 143262, 335),\n",
       " ('2021-10-12 11:10:28', 'Dresden', 100051, 2075),\n",
       " ('2021-10-12 11:10:28', 'Hannover', 109489, 265),\n",
       " ('2021-10-12 11:10:28', 'Dortmund', 99990, 501),\n",
       " ('2021-10-12 11:10:28', 'Frankfurt am Main', 105043, 816),\n",
       " ('2021-10-12 11:10:28', 'Hamburg', 109447, 1176)]"
      ]
     },
     "execution_count": 118,
     "metadata": {},
     "output_type": "execute_result"
    }
   ],
   "source": [
    "[tuple(x) for x in df_offers.to_numpy()]"
   ]
  },
  {
   "cell_type": "code",
   "execution_count": 64,
   "id": "270e1d5d-d8be-413c-9074-c504f99f2820",
   "metadata": {},
   "outputs": [],
   "source": [
    "create_table = '''\n",
    "    CREATE TABLE IF NOT EXISTS offers_qtt_by_city\n",
    "    (\n",
    "        extraction_datetime TIMESTAMP,\n",
    "        city VARCHAR(50), \n",
    "        city_code INT PRIMARY KEY NOT NULL,\n",
    "        offers INT\n",
    "    );\n",
    "'''"
   ]
  },
  {
   "cell_type": "code",
   "execution_count": 72,
   "id": "e02bbb62-280b-4131-9940-80d63ae374c6",
   "metadata": {},
   "outputs": [],
   "source": [
    "insert_values = '''\n",
    "    COPY offers_qtt_by_city (extraction_datetime, city, city_code, offers)\n",
    "    FROM '/Users/felipedemenechvasconcelos/repos/de_rent_houses/rent-houses--germany/data/total_offers_by_city_2021_10_12_11_10_28.csv'\n",
    "    DELIMITER ','\n",
    "    CSV HEADER;\n",
    "'''"
   ]
  },
  {
   "cell_type": "code",
   "execution_count": 66,
   "id": "7b1a2658-0502-49fd-8cdc-fc6d364b7ebc",
   "metadata": {},
   "outputs": [],
   "source": [
    "commit = '''\n",
    "    COMMIT;\n",
    "'''"
   ]
  },
  {
   "cell_type": "code",
   "execution_count": 76,
   "id": "d7e5385f-9b70-4948-8092-5c01ac4267a8",
   "metadata": {},
   "outputs": [],
   "source": [
    "cur.execute(select)"
   ]
  },
  {
   "cell_type": "code",
   "execution_count": 75,
   "id": "871f4754-8097-42a4-9224-996555e64121",
   "metadata": {},
   "outputs": [],
   "source": [
    "select = '''\n",
    "    SELECT * FROM offers_qtt_by_city;\n",
    "'''"
   ]
  },
  {
   "cell_type": "code",
   "execution_count": 77,
   "id": "f46f7d9a-de3e-442b-b520-3eb9d9d7b7d6",
   "metadata": {},
   "outputs": [
    {
     "name": "stdout",
     "output_type": "stream",
     "text": [
      "[(datetime.datetime(2021, 10, 12, 11, 10, 28), 'Dusseldorf', 100207, 409), (datetime.datetime(2021, 10, 12, 11, 10, 28), 'Berlin', 87372, 498), (datetime.datetime(2021, 10, 12, 11, 10, 28), 'Essen', 102157, 570), (datetime.datetime(2021, 10, 12, 11, 10, 28), 'Munchen', 121673, 804), (datetime.datetime(2021, 10, 12, 11, 10, 28), 'Koln', 113144, 198), (datetime.datetime(2021, 10, 12, 11, 10, 28), 'Stuttgart', 143262, 335), (datetime.datetime(2021, 10, 12, 11, 10, 28), 'Dresden', 100051, 2075), (datetime.datetime(2021, 10, 12, 11, 10, 28), 'Hannover', 109489, 265), (datetime.datetime(2021, 10, 12, 11, 10, 28), 'Dortmund', 99990, 501), (datetime.datetime(2021, 10, 12, 11, 10, 28), 'Frankfurt am Main', 105043, 816), (datetime.datetime(2021, 10, 12, 11, 10, 28), 'Hamburg', 109447, 1176)]\n"
     ]
    }
   ],
   "source": [
    "query_results = cur.fetchall()\n",
    "print(query_results)"
   ]
  },
  {
   "cell_type": "code",
   "execution_count": 78,
   "id": "bfad54dd-1560-4340-b0f9-76e0554b8614",
   "metadata": {},
   "outputs": [
    {
     "data": {
      "text/html": [
       "<div>\n",
       "<style scoped>\n",
       "    .dataframe tbody tr th:only-of-type {\n",
       "        vertical-align: middle;\n",
       "    }\n",
       "\n",
       "    .dataframe tbody tr th {\n",
       "        vertical-align: top;\n",
       "    }\n",
       "\n",
       "    .dataframe thead th {\n",
       "        text-align: right;\n",
       "    }\n",
       "</style>\n",
       "<table border=\"1\" class=\"dataframe\">\n",
       "  <thead>\n",
       "    <tr style=\"text-align: right;\">\n",
       "      <th></th>\n",
       "      <th>extraction_datetime</th>\n",
       "      <th>city</th>\n",
       "      <th>city_code</th>\n",
       "      <th>offers</th>\n",
       "    </tr>\n",
       "  </thead>\n",
       "  <tbody>\n",
       "    <tr>\n",
       "      <th>0</th>\n",
       "      <td>2021-10-12 11:10:28</td>\n",
       "      <td>Dusseldorf</td>\n",
       "      <td>100207</td>\n",
       "      <td>409</td>\n",
       "    </tr>\n",
       "    <tr>\n",
       "      <th>1</th>\n",
       "      <td>2021-10-12 11:10:28</td>\n",
       "      <td>Berlin</td>\n",
       "      <td>87372</td>\n",
       "      <td>498</td>\n",
       "    </tr>\n",
       "    <tr>\n",
       "      <th>2</th>\n",
       "      <td>2021-10-12 11:10:28</td>\n",
       "      <td>Essen</td>\n",
       "      <td>102157</td>\n",
       "      <td>570</td>\n",
       "    </tr>\n",
       "    <tr>\n",
       "      <th>3</th>\n",
       "      <td>2021-10-12 11:10:28</td>\n",
       "      <td>Munchen</td>\n",
       "      <td>121673</td>\n",
       "      <td>804</td>\n",
       "    </tr>\n",
       "    <tr>\n",
       "      <th>4</th>\n",
       "      <td>2021-10-12 11:10:28</td>\n",
       "      <td>Koln</td>\n",
       "      <td>113144</td>\n",
       "      <td>198</td>\n",
       "    </tr>\n",
       "    <tr>\n",
       "      <th>5</th>\n",
       "      <td>2021-10-12 11:10:28</td>\n",
       "      <td>Stuttgart</td>\n",
       "      <td>143262</td>\n",
       "      <td>335</td>\n",
       "    </tr>\n",
       "    <tr>\n",
       "      <th>6</th>\n",
       "      <td>2021-10-12 11:10:28</td>\n",
       "      <td>Dresden</td>\n",
       "      <td>100051</td>\n",
       "      <td>2075</td>\n",
       "    </tr>\n",
       "    <tr>\n",
       "      <th>7</th>\n",
       "      <td>2021-10-12 11:10:28</td>\n",
       "      <td>Hannover</td>\n",
       "      <td>109489</td>\n",
       "      <td>265</td>\n",
       "    </tr>\n",
       "    <tr>\n",
       "      <th>8</th>\n",
       "      <td>2021-10-12 11:10:28</td>\n",
       "      <td>Dortmund</td>\n",
       "      <td>99990</td>\n",
       "      <td>501</td>\n",
       "    </tr>\n",
       "    <tr>\n",
       "      <th>9</th>\n",
       "      <td>2021-10-12 11:10:28</td>\n",
       "      <td>Frankfurt am Main</td>\n",
       "      <td>105043</td>\n",
       "      <td>816</td>\n",
       "    </tr>\n",
       "    <tr>\n",
       "      <th>10</th>\n",
       "      <td>2021-10-12 11:10:28</td>\n",
       "      <td>Hamburg</td>\n",
       "      <td>109447</td>\n",
       "      <td>1176</td>\n",
       "    </tr>\n",
       "  </tbody>\n",
       "</table>\n",
       "</div>"
      ],
      "text/plain": [
       "   extraction_datetime               city  city_code  offers\n",
       "0  2021-10-12 11:10:28         Dusseldorf     100207     409\n",
       "1  2021-10-12 11:10:28             Berlin      87372     498\n",
       "2  2021-10-12 11:10:28              Essen     102157     570\n",
       "3  2021-10-12 11:10:28            Munchen     121673     804\n",
       "4  2021-10-12 11:10:28               Koln     113144     198\n",
       "5  2021-10-12 11:10:28          Stuttgart     143262     335\n",
       "6  2021-10-12 11:10:28            Dresden     100051    2075\n",
       "7  2021-10-12 11:10:28           Hannover     109489     265\n",
       "8  2021-10-12 11:10:28           Dortmund      99990     501\n",
       "9  2021-10-12 11:10:28  Frankfurt am Main     105043     816\n",
       "10 2021-10-12 11:10:28            Hamburg     109447    1176"
      ]
     },
     "execution_count": 78,
     "metadata": {},
     "output_type": "execute_result"
    }
   ],
   "source": [
    "pd.read_sql_query(select, conn)"
   ]
  },
  {
   "cell_type": "markdown",
   "id": "e1894326-e9aa-4937-915d-78d1577ac1b9",
   "metadata": {},
   "source": [
    "#### all_offer_ids"
   ]
  },
  {
   "cell_type": "code",
   "execution_count": 101,
   "id": "ce5c31f9-f733-4305-bc5b-368066015473",
   "metadata": {},
   "outputs": [],
   "source": [
    "df_ids = pd.read_csv('../data/immonet_de_2021_10_12_11_10_55.csv')"
   ]
  },
  {
   "cell_type": "code",
   "execution_count": 111,
   "id": "fdafd93a-11c1-48c1-b505-399211284dd9",
   "metadata": {},
   "outputs": [],
   "source": [
    "df_ids.drop_duplicates(subset='offer_id', inplace=True)"
   ]
  },
  {
   "cell_type": "code",
   "execution_count": 105,
   "id": "a2615966-060a-4f9e-8b1b-48b279da9ceb",
   "metadata": {},
   "outputs": [],
   "source": [
    "df_ids.drop_duplicates(inplace=True)"
   ]
  },
  {
   "cell_type": "code",
   "execution_count": 113,
   "id": "d61adc3e-99a3-4286-b18d-f9b4ede35c5f",
   "metadata": {},
   "outputs": [
    {
     "data": {
      "text/plain": [
       "(6753, 5)"
      ]
     },
     "execution_count": 113,
     "metadata": {},
     "output_type": "execute_result"
    }
   ],
   "source": [
    "df_ids.shape"
   ]
  },
  {
   "cell_type": "code",
   "execution_count": 114,
   "id": "5bbae8ec-6677-4c36-9221-c81ab0c4be90",
   "metadata": {},
   "outputs": [],
   "source": [
    "df_ids.to_csv('../data/immonet_de_2021_10_12_11_10_55.csv', index=False)"
   ]
  },
  {
   "cell_type": "code",
   "execution_count": 86,
   "id": "b4662886-6381-4202-9494-fc1b19c502a9",
   "metadata": {},
   "outputs": [],
   "source": [
    "create_table = '''\n",
    "    CREATE TABLE IF NOT EXISTS all_offer_ids\n",
    "    (\n",
    "        extraction_datetime TIMESTAMP,\n",
    "        offer_id INT PRIMARY KEY NOT NULL,\n",
    "        city VARCHAR(50), \n",
    "        city_code INT NOT NULL,\n",
    "        type VARCHAR(15)\n",
    "    );\n",
    "'''"
   ]
  },
  {
   "cell_type": "code",
   "execution_count": 115,
   "id": "ce31b99f-84fd-40d4-9f9f-80ed3d32a731",
   "metadata": {},
   "outputs": [],
   "source": [
    "insert_values = '''\n",
    "    COPY all_offer_ids (extraction_datetime, offer_id, city, city_code, type)\n",
    "    FROM '/Users/felipedemenechvasconcelos/repos/de_rent_houses/rent-houses--germany/data/immonet_de_2021_10_12_11_10_55.csv'\n",
    "    DELIMITER ','\n",
    "    CSV HEADER;\n",
    "'''"
   ]
  },
  {
   "cell_type": "code",
   "execution_count": 84,
   "id": "e9e9db46-9f24-4b32-85af-9497c7607de2",
   "metadata": {},
   "outputs": [],
   "source": [
    "commit = '''\n",
    "    COMMIT;\n",
    "'''"
   ]
  },
  {
   "cell_type": "code",
   "execution_count": 117,
   "id": "c2fbda59-6c2b-4890-bcaf-4111eabb0ed1",
   "metadata": {},
   "outputs": [],
   "source": [
    "cur.execute(commit)"
   ]
  },
  {
   "cell_type": "markdown",
   "id": "d59ed3a4-e700-494c-863c-26b6565b0fa1",
   "metadata": {},
   "source": [
    "The connection works, now, the scripts must fill each table inside the database"
   ]
  },
  {
   "cell_type": "code",
   "execution_count": 152,
   "id": "e7d8b7de-dfa7-4208-9e74-a64e524e19cb",
   "metadata": {},
   "outputs": [],
   "source": [
    "import psycopg2.extras as extras\n",
    "\n",
    "def connect():\n",
    "    \"\"\" \n",
    "    Connect to the PostgreSQL database server \n",
    "    \"\"\"\n",
    "    conn = None\n",
    "    try:\n",
    "        # connect to the PostgreSQL server\n",
    "        print('Connecting to the PostgreSQL database...')\n",
    "        conn = psycopg2.connect(**config())\n",
    "    except (Exception, psycopg2.DatabaseError) as error:\n",
    "        print(error)\n",
    "        sys.exit(1)\n",
    "    print(\"Connection successful\")\n",
    "    \n",
    "    return conn\n",
    "\n",
    "\n",
    "def execute_query(conn, query):\n",
    "    \"\"\" \n",
    "    Execute a single query \n",
    "    \"\"\"\n",
    "\n",
    "    ret = 0 # Return value\n",
    "    cursor = conn.cursor()\n",
    "    try:\n",
    "        cursor.execute(query)\n",
    "        conn.commit()\n",
    "    except (Exception, psycopg2.DatabaseError) as error:\n",
    "        print(f\"Error: {error}\")\n",
    "        conn.rollback()\n",
    "        cursor.close()\n",
    "        return 1\n",
    "\n",
    "    # If this was a select query, return the result\n",
    "    if 'select' in query.lower():\n",
    "        ret = cursor.fetchall()\n",
    "    cursor.close()\n",
    "    return ret\n",
    "\n",
    "\n",
    "def execute_values(conn, df, table):\n",
    "    \"\"\"\n",
    "    Using psycopg2.extras.execute_values() to insert the dataframe\n",
    "    \"\"\"\n",
    "    cursor = conn.cursor()\n",
    "    # Create a list of tupples from the dataframe values\n",
    "    tuples = [tuple(x) for x in df.to_numpy()]\n",
    "    # Comma-separated dataframe columns\n",
    "    cols = ','.join(list(df.columns))\n",
    "    # SQL quert to execute\n",
    "    query  = f\"INSERT INTO %s(%s) VALUES %%s\" % (table, cols)\n",
    "    print(query)\n",
    "    #cursor = conn.cursor()\n",
    "    try:\n",
    "        extras.execute_values(cursor, query, tuples)\n",
    "        conn.commit()\n",
    "    except (Exception, psycopg2.DatabaseError) as error:\n",
    "        print(f\"Error: {error}\")\n",
    "        conn.rollback()\n",
    "        cursor.close()\n",
    "        return 1\n",
    "    print(\"execute_values() done\")\n",
    "    cursor.close()"
   ]
  },
  {
   "cell_type": "code",
   "execution_count": 153,
   "id": "79e60e67-42c7-4a55-b820-493ccfe9c211",
   "metadata": {},
   "outputs": [
    {
     "name": "stdout",
     "output_type": "stream",
     "text": [
      "Connecting to the PostgreSQL database...\n",
      "Connection successful\n"
     ]
    }
   ],
   "source": [
    "conn = connect()"
   ]
  },
  {
   "cell_type": "code",
   "execution_count": 160,
   "id": "35dc59b4-60a0-44d8-8652-40da096f4770",
   "metadata": {},
   "outputs": [
    {
     "name": "stdout",
     "output_type": "stream",
     "text": [
      "INSERT INTO offers_qtt_by_city(extraction_datetime,city,city_code,offers) VALUES %s\n",
      "execute_values() done\n"
     ]
    }
   ],
   "source": [
    "execute_values(conn=conn, df=df_offers, table='offers_qtt_by_city')"
   ]
  },
  {
   "cell_type": "code",
   "execution_count": 158,
   "id": "532f0fa2-f18e-4f13-8b5a-275cf663701a",
   "metadata": {},
   "outputs": [],
   "source": [
    "create_table = '''\n",
    "    CREATE TABLE IF NOT EXISTS offers_qtt_by_city\n",
    "    (\n",
    "        extraction_datetime TIMESTAMP,\n",
    "        city VARCHAR(50), \n",
    "        city_code INT PRIMARY KEY NOT NULL,\n",
    "        offers INT\n",
    "    );\n",
    "'''"
   ]
  },
  {
   "cell_type": "code",
   "execution_count": 159,
   "id": "9135c534-b980-47f1-91f2-cdee056600cd",
   "metadata": {},
   "outputs": [
    {
     "data": {
      "text/plain": [
       "0"
      ]
     },
     "execution_count": 159,
     "metadata": {},
     "output_type": "execute_result"
    }
   ],
   "source": [
    "execute_query(conn, query=create_table)"
   ]
  },
  {
   "cell_type": "code",
   "execution_count": 162,
   "id": "6b22246d-a7bd-459f-8f4c-f60157af0963",
   "metadata": {},
   "outputs": [
    {
     "name": "stdout",
     "output_type": "stream",
     "text": [
      "Number of rows in the table = [(datetime.datetime(2021, 10, 12, 11, 10, 28), 'Dusseldorf', 100207, 409), (datetime.datetime(2021, 10, 12, 11, 10, 28), 'Berlin', 87372, 498), (datetime.datetime(2021, 10, 12, 11, 10, 28), 'Essen', 102157, 570), (datetime.datetime(2021, 10, 12, 11, 10, 28), 'Munchen', 121673, 804), (datetime.datetime(2021, 10, 12, 11, 10, 28), 'Koln', 113144, 198), (datetime.datetime(2021, 10, 12, 11, 10, 28), 'Stuttgart', 143262, 335), (datetime.datetime(2021, 10, 12, 11, 10, 28), 'Dresden', 100051, 2075), (datetime.datetime(2021, 10, 12, 11, 10, 28), 'Hannover', 109489, 265), (datetime.datetime(2021, 10, 12, 11, 10, 28), 'Dortmund', 99990, 501), (datetime.datetime(2021, 10, 12, 11, 10, 28), 'Frankfurt am Main', 105043, 816), (datetime.datetime(2021, 10, 12, 11, 10, 28), 'Hamburg', 109447, 1176)]\n"
     ]
    }
   ],
   "source": [
    "n_rows = execute_query(conn, \"select * from offers_qtt_by_city;\")\n",
    "print(\"Number of rows in the table = %s\" % n_rows)"
   ]
  },
  {
   "cell_type": "markdown",
   "id": "c1da9a84-5de5-4893-b817-80e3a36d1877",
   "metadata": {},
   "source": [
    "Nao vai dar certo colocar as tabelas uma acima da outra, a tabela com as ofertas por cidade terá que ser atualizada e incluida uma nova coluna com os resultados a cada vez que fizer o update.a"
   ]
  },
  {
   "cell_type": "markdown",
   "id": "3f451e5c-13e7-46b5-abb0-a06a29ae8658",
   "metadata": {},
   "source": []
  }
 ],
 "metadata": {
  "kernelspec": {
   "display_name": "Python 3",
   "language": "python",
   "name": "python3"
  },
  "language_info": {
   "codemirror_mode": {
    "name": "ipython",
    "version": 3
   },
   "file_extension": ".py",
   "mimetype": "text/x-python",
   "name": "python",
   "nbconvert_exporter": "python",
   "pygments_lexer": "ipython3",
   "version": "3.8.8"
  }
 },
 "nbformat": 4,
 "nbformat_minor": 5
}
