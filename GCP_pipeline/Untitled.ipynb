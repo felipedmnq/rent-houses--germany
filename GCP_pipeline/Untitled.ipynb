{
 "cells": [
  {
   "cell_type": "code",
   "execution_count": 1,
   "id": "a7bc7187-ac00-4c2b-975a-c63e5591ce0c",
   "metadata": {},
   "outputs": [],
   "source": [
    "from gcp_get_raw_infos import *"
   ]
  },
  {
   "cell_type": "code",
   "execution_count": 2,
   "id": "5e4a4822-a316-4d82-8a9c-fec3fe7c211a",
   "metadata": {},
   "outputs": [
    {
     "name": "stdout",
     "output_type": "stream",
     "text": [
      "File ../data/all_offers_infos_raw.csv uploaded to de_rent_data/all_offers_infos_raw.csv.\n"
     ]
    }
   ],
   "source": [
    "upload_blob()"
   ]
  },
  {
   "cell_type": "code",
   "execution_count": null,
   "id": "a66110a1-368c-40e6-99a8-4d276a13080b",
   "metadata": {},
   "outputs": [],
   "source": []
  }
 ],
 "metadata": {
  "kernelspec": {
   "display_name": "Python 3 (ipykernel)",
   "language": "python",
   "name": "python3"
  },
  "language_info": {
   "codemirror_mode": {
    "name": "ipython",
    "version": 3
   },
   "file_extension": ".py",
   "mimetype": "text/x-python",
   "name": "python",
   "nbconvert_exporter": "python",
   "pygments_lexer": "ipython3",
   "version": "3.8.8"
  }
 },
 "nbformat": 4,
 "nbformat_minor": 5
}
